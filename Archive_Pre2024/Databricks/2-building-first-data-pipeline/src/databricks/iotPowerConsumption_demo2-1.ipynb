{
 "cells": [
  {
   "cell_type": "markdown",
   "metadata": {
    "application/vnd.databricks.v1+cell": {
     "cellMetadata": {
      "byteLimit": 2048000,
      "rowLimit": 10000
     },
     "inputWidgets": {},
     "nuid": "c97ae09e-337c-4f31-a0fd-e7ae5de15d61",
     "showTitle": false,
     "title": ""
    }
   },
   "source": [
    "# Purpose\n",
    "This code will: \n",
    "1. Retrieve the power consumption files (JSON format) from the Data Lake (landing container)\n",
    "1. Using the parameters/widgets to configure which date and time to read.\n",
    "1. Create the \"iotSmartGrid.powerConsumption\" table, if required.\n",
    "1. Merge the new data into the powerConsumption table.\n",
    "\n",
    "# Configuration\n",
    "To use this sample code, you will have to provide the Data Lake storage account key in Cmd2. Ideally, you should create a secretScope to store the key value. \n",
    "For more information, please see this link - https://learn.microsoft.com/en-us/azure/databricks/security/secrets/secret-scopes#create-a-databricks-backed-secret-scope"
   ]
  },
  {
   "cell_type": "code",
   "execution_count": 0,
   "metadata": {
    "application/vnd.databricks.v1+cell": {
     "cellMetadata": {
      "byteLimit": 2048000,
      "rowLimit": 10000
     },
     "inputWidgets": {},
     "nuid": "86b953b9-5b21-4e25-ab30-be2f132a39fb",
     "showTitle": false,
     "title": ""
    }
   },
   "outputs": [],
   "source": [
    "# Configuring my account key so Databricks can access the Data lake.\n",
    "\n",
    "spark.conf.set(\"fs.azure.account.key.sbdemostaiotsmartgrid.dfs.core.windows.net\", \n",
    "               dbutils.secrets.get(scope=\"sbdemokviotsmartgrid\", key=\"sbdemostaiotsmartgrid\"))\n",
    "\n",
    "# Define the location of my files\n",
    "\n",
    "landingLocation = \"abfss://landing@sbdemostaiotsmartgrid.dfs.core.windows.net/iotSmartGridData\"\n",
    "processedLocation = \"abfss://processed@sbdemostaiotsmartgrid.dfs.core.windows.net/iotSmartGrid\""
   ]
  },
  {
   "cell_type": "code",
   "execution_count": 0,
   "metadata": {
    "application/vnd.databricks.v1+cell": {
     "cellMetadata": {
      "byteLimit": 2048000,
      "rowLimit": 10000
     },
     "inputWidgets": {},
     "nuid": "9d0c9a44-74dc-42d2-abe3-d4e4165bc419",
     "showTitle": false,
     "title": ""
    }
   },
   "outputs": [
    {
     "output_type": "stream",
     "name": "stdout",
     "output_type": "stream",
     "text": [
      "Out[34]: False"
     ]
    }
   ],
   "source": [
    "# Execute this to reset the demo\n",
    "\n",
    "# dbutils.widgets.removeAll()\n",
    "# spark.sql(\"DROP SCHEMA iotSmartGrid CASCADE\")\n",
    "# dbutils.fs.rm(processedLocation, True)"
   ]
  },
  {
   "cell_type": "code",
   "execution_count": 0,
   "metadata": {
    "application/vnd.databricks.v1+cell": {
     "cellMetadata": {
      "byteLimit": 2048000,
      "rowLimit": 10000
     },
     "inputWidgets": {},
     "nuid": "958df36f-c43a-4e55-b0cb-af8f44b220d4",
     "showTitle": false,
     "title": ""
    }
   },
   "outputs": [],
   "source": [
    "dbutils.widgets.text(\"landing_folder\", \"2023/01/01/000000\")"
   ]
  },
  {
   "cell_type": "code",
   "execution_count": 0,
   "metadata": {
    "application/vnd.databricks.v1+cell": {
     "cellMetadata": {
      "byteLimit": 2048000,
      "rowLimit": 10000
     },
     "inputWidgets": {},
     "nuid": "9eb1aab7-84e5-4846-9277-e28d52679399",
     "showTitle": false,
     "title": ""
    }
   },
   "outputs": [],
   "source": [
    "# Read the JSON Smart Grid power data from the Data Lake\n",
    "\n",
    "gridDataDf = spark.read.json(f\"{landingLocation}/{dbutils.widgets.get('landing_folder')}/*.json\")"
   ]
  },
  {
   "cell_type": "code",
   "execution_count": 0,
   "metadata": {
    "application/vnd.databricks.v1+cell": {
     "cellMetadata": {
      "byteLimit": 2048000,
      "rowLimit": 10000
     },
     "inputWidgets": {},
     "nuid": "f7c203f9-b9d6-461a-99e9-e6a4abdf7f51",
     "showTitle": false,
     "title": ""
    }
   },
   "outputs": [],
   "source": [
    "from pyspark.sql.functions import *\n",
    "from pyspark.sql.types import *\n",
    "\n",
    "# Convert measurementDate from string to timestamp\n",
    "gridDataDf = gridDataDf.withColumn(\"measurementDate\", to_timestamp(\"measurementDate\"))\n"
   ]
  },
  {
   "cell_type": "code",
   "execution_count": 0,
   "metadata": {
    "application/vnd.databricks.v1+cell": {
     "cellMetadata": {
      "byteLimit": 2048000,
      "rowLimit": 10000
     },
     "inputWidgets": {},
     "nuid": "c9c62af8-c9a6-4c5c-be04-66bfdaec8b9e",
     "showTitle": false,
     "title": ""
    }
   },
   "outputs": [],
   "source": [
    "from delta.tables import *\n",
    "\n",
    "# check if the processedLocation contain the delta table\n",
    "if(DeltaTable.isDeltaTable(spark, processedLocation)): \n",
    "\n",
    "    # If yes, merge data with the existing delta table\n",
    "    DeltaTable.forPath(spark, processedLocation).alias(\"target\").merge(\n",
    "        source = gridDataDf.alias(\"src\"),\n",
    "        condition = \"target.measurementDate = src.measurementDate and target.meterId = src.meterId and target.zipCode = src.zipCode\"\n",
    "    ).whenNotMatchedInsertAll().execute()\n",
    "else:\n",
    "\n",
    "    # If no, save the file to processedLocation\n",
    "    gridDataDf.write.mode(\"overwrite\").format(\"delta\").save(processedLocation)\n"
   ]
  },
  {
   "cell_type": "code",
   "execution_count": 0,
   "metadata": {
    "application/vnd.databricks.v1+cell": {
     "cellMetadata": {
      "byteLimit": 2048000,
      "rowLimit": 10000
     },
     "inputWidgets": {},
     "nuid": "6e2a3b30-1cf6-4c8e-8d2f-e5917ec50b32",
     "showTitle": false,
     "title": ""
    }
   },
   "outputs": [
    {
     "output_type": "stream",
     "name": "stdout",
     "output_type": "stream",
     "text": [
      "Out[39]: DataFrame[]"
     ]
    }
   ],
   "source": [
    "# create the schema and table, if required\n",
    "\n",
    "spark.sql(\"CREATE SCHEMA IF NOT EXISTS iotSmartGrid\")\n",
    "spark.sql(f\"CREATE EXTERNAL TABLE IF NOT EXISTS iotSmartGrid.powerConsumption USING delta LOCATION '{processedLocation}'\")\n",
    "\n",
    "# Note: Using spark.sql because we can use f-string to retrieve the processedLocation"
   ]
  },
  {
   "cell_type": "code",
   "execution_count": 0,
   "metadata": {
    "application/vnd.databricks.v1+cell": {
     "cellMetadata": {
      "byteLimit": 2048000,
      "implicitDf": true,
      "rowLimit": 10000
     },
     "inputWidgets": {},
     "nuid": "8592fa0d-8c30-4426-bf90-a78bfa4b038b",
     "showTitle": false,
     "title": ""
    }
   },
   "outputs": [
    {
     "output_type": "display_data",
     "data": {
      "text/html": [
       "<style scoped>\n",
       "  .table-result-container {\n",
       "    max-height: 300px;\n",
       "    overflow: auto;\n",
       "  }\n",
       "  table, th, td {\n",
       "    border: 1px solid black;\n",
       "    border-collapse: collapse;\n",
       "  }\n",
       "  th, td {\n",
       "    padding: 5px;\n",
       "  }\n",
       "  th {\n",
       "    text-align: left;\n",
       "  }\n",
       "</style><div class='table-result-container'><table class='table-result'><thead style='background-color: white'><tr><th>col_name</th><th>data_type</th><th>comment</th></tr></thead><tbody><tr><td>measurementDate</td><td>timestamp</td><td>null</td></tr><tr><td>measurementInKWh</td><td>double</td><td>null</td></tr><tr><td>meterId</td><td>string</td><td>null</td></tr><tr><td>zipCode</td><td>bigint</td><td>null</td></tr><tr><td></td><td></td><td></td></tr><tr><td># Detailed Table Information</td><td></td><td></td></tr><tr><td>Catalog</td><td>spark_catalog</td><td></td></tr><tr><td>Database</td><td>iotSmartGrid</td><td></td></tr><tr><td>Table</td><td>powerConsumption</td><td></td></tr><tr><td>Type</td><td>EXTERNAL</td><td></td></tr><tr><td>Location</td><td>abfss://processed@sbdemostaiotsmartgrid.dfs.core.windows.net/iotSmartGrid</td><td></td></tr><tr><td>Provider</td><td>delta</td><td></td></tr><tr><td>Owner</td><td>root</td><td></td></tr><tr><td>Table Properties</td><td>[delta.minReaderVersion=1,delta.minWriterVersion=2]</td><td></td></tr></tbody></table></div>"
      ]
     },
     "metadata": {
      "application/vnd.databricks.v1+output": {
       "addedWidgets": {},
       "aggData": [],
       "aggError": "",
       "aggOverflow": false,
       "aggSchema": [],
       "aggSeriesLimitReached": false,
       "aggType": "",
       "arguments": {},
       "columnCustomDisplayInfos": {},
       "data": [
        [
         "measurementDate",
         "timestamp",
         null
        ],
        [
         "measurementInKWh",
         "double",
         null
        ],
        [
         "meterId",
         "string",
         null
        ],
        [
         "zipCode",
         "bigint",
         null
        ],
        [
         "",
         "",
         ""
        ],
        [
         "# Detailed Table Information",
         "",
         ""
        ],
        [
         "Catalog",
         "spark_catalog",
         ""
        ],
        [
         "Database",
         "iotSmartGrid",
         ""
        ],
        [
         "Table",
         "powerConsumption",
         ""
        ],
        [
         "Type",
         "EXTERNAL",
         ""
        ],
        [
         "Location",
         "abfss://processed@sbdemostaiotsmartgrid.dfs.core.windows.net/iotSmartGrid",
         ""
        ],
        [
         "Provider",
         "delta",
         ""
        ],
        [
         "Owner",
         "root",
         ""
        ],
        [
         "Table Properties",
         "[delta.minReaderVersion=1,delta.minWriterVersion=2]",
         ""
        ]
       ],
       "datasetInfos": [],
       "dbfsResultPath": null,
       "isJsonSchema": true,
       "metadata": {},
       "overflow": false,
       "plotOptions": {
        "customPlotOptions": {},
        "displayType": "table",
        "pivotAggregation": null,
        "pivotColumns": null,
        "xColumns": null,
        "yColumns": null
       },
       "removedWidgets": [],
       "schema": [
        {
         "metadata": "{\"comment\":\"name of the column\"}",
         "name": "col_name",
         "type": "\"string\""
        },
        {
         "metadata": "{\"comment\":\"data type of the column\"}",
         "name": "data_type",
         "type": "\"string\""
        },
        {
         "metadata": "{\"comment\":\"comment of the column\"}",
         "name": "comment",
         "type": "\"string\""
        }
       ],
       "type": "table"
      }
     },
     "output_type": "display_data"
    }
   ],
   "source": [
    "%sql\n",
    "\n",
    "DESCRIBE EXTENDED iotSmartGrid.powerConsumption\n",
    "\n",
    "-- Location: stored in the storage account\n",
    "-- Provider (format): Delta"
   ]
  },
  {
   "cell_type": "code",
   "execution_count": 0,
   "metadata": {
    "application/vnd.databricks.v1+cell": {
     "cellMetadata": {
      "byteLimit": 2048000,
      "implicitDf": true,
      "rowLimit": 10000
     },
     "inputWidgets": {},
     "nuid": "ac61f406-e8e2-4c87-be0a-06692068099a",
     "showTitle": false,
     "title": ""
    }
   },
   "outputs": [
    {
     "output_type": "display_data",
     "data": {
      "text/html": [
       "<style scoped>\n",
       "  .table-result-container {\n",
       "    max-height: 300px;\n",
       "    overflow: auto;\n",
       "  }\n",
       "  table, th, td {\n",
       "    border: 1px solid black;\n",
       "    border-collapse: collapse;\n",
       "  }\n",
       "  th, td {\n",
       "    padding: 5px;\n",
       "  }\n",
       "  th {\n",
       "    text-align: left;\n",
       "  }\n",
       "</style><div class='table-result-container'><table class='table-result'><thead style='background-color: white'><tr><th>version</th><th>operationMetrics</th><th>numOutputRows</th><th>numTargetRowsInserted</th><th>numTargetRowsUpdated</th><th>numTargetRowsDeleted</th></tr></thead><tbody><tr><td>0</td><td>Map(numFiles -> 3, numOutputRows -> 1080, numOutputBytes -> 15725)</td><td>1080</td><td>null</td><td>null</td><td>null</td></tr></tbody></table></div>"
      ]
     },
     "metadata": {
      "application/vnd.databricks.v1+output": {
       "addedWidgets": {},
       "aggData": [],
       "aggError": "",
       "aggOverflow": false,
       "aggSchema": [],
       "aggSeriesLimitReached": false,
       "aggType": "",
       "arguments": {},
       "columnCustomDisplayInfos": {},
       "data": [
        [
         0,
         {
          "numFiles": "3",
          "numOutputBytes": "15725",
          "numOutputRows": "1080"
         },
         "1080",
         null,
         null,
         null
        ]
       ],
       "datasetInfos": [],
       "dbfsResultPath": null,
       "isJsonSchema": true,
       "metadata": {},
       "overflow": false,
       "plotOptions": {
        "customPlotOptions": {},
        "displayType": "table",
        "pivotAggregation": null,
        "pivotColumns": null,
        "xColumns": null,
        "yColumns": null
       },
       "removedWidgets": [],
       "schema": [
        {
         "metadata": "{}",
         "name": "version",
         "type": "\"long\""
        },
        {
         "metadata": "{}",
         "name": "operationMetrics",
         "type": "{\"type\":\"map\",\"keyType\":\"string\",\"valueType\":\"string\",\"valueContainsNull\":true}"
        },
        {
         "metadata": "{}",
         "name": "numOutputRows",
         "type": "\"string\""
        },
        {
         "metadata": "{}",
         "name": "numTargetRowsInserted",
         "type": "\"string\""
        },
        {
         "metadata": "{}",
         "name": "numTargetRowsUpdated",
         "type": "\"string\""
        },
        {
         "metadata": "{}",
         "name": "numTargetRowsDeleted",
         "type": "\"string\""
        }
       ],
       "type": "table"
      }
     },
     "output_type": "display_data"
    }
   ],
   "source": [
    "%sql\n",
    "\n",
    "-- Show the transaction log on the delta version\n",
    "\n",
    "SELECT version, operationMetrics, operationMetrics.numOutputRows, operationMetrics.numTargetRowsInserted, operationMetrics.numTargetRowsUpdated, operationMetrics.numTargetRowsDeleted\n",
    "FROM (DESCRIBE HISTORY iotSmartGrid.powerConsumption)\n",
    "\n",
    "-- if you execute Cmd 7 again, a new version is created with no data changes (numOutputRows = 0)"
   ]
  },
  {
   "cell_type": "code",
   "execution_count": 0,
   "metadata": {
    "application/vnd.databricks.v1+cell": {
     "cellMetadata": {
      "byteLimit": 2048000,
      "implicitDf": true,
      "rowLimit": 10000
     },
     "inputWidgets": {},
     "nuid": "c945a7e9-a5a7-4b1b-acfd-9677e1960eba",
     "showTitle": false,
     "title": ""
    }
   },
   "outputs": [
    {
     "output_type": "display_data",
     "data": {
      "text/html": [
       "<style scoped>\n",
       "  .table-result-container {\n",
       "    max-height: 300px;\n",
       "    overflow: auto;\n",
       "  }\n",
       "  table, th, td {\n",
       "    border: 1px solid black;\n",
       "    border-collapse: collapse;\n",
       "  }\n",
       "  th, td {\n",
       "    padding: 5px;\n",
       "  }\n",
       "  th {\n",
       "    text-align: left;\n",
       "  }\n",
       "</style><div class='table-result-container'><table class='table-result'><thead style='background-color: white'><tr><th>measurementDate</th><th>cnt</th></tr></thead><tbody><tr><td>2023-01-01T00:15:00.000+0000</td><td>360</td></tr><tr><td>2023-01-01T00:10:00.000+0000</td><td>360</td></tr><tr><td>2023-01-01T00:05:00.000+0000</td><td>360</td></tr></tbody></table></div>"
      ]
     },
     "metadata": {
      "application/vnd.databricks.v1+output": {
       "addedWidgets": {},
       "aggData": [],
       "aggError": "",
       "aggOverflow": false,
       "aggSchema": [],
       "aggSeriesLimitReached": false,
       "aggType": "",
       "arguments": {},
       "columnCustomDisplayInfos": {},
       "data": [
        [
         "2023-01-01T00:15:00.000+0000",
         360
        ],
        [
         "2023-01-01T00:10:00.000+0000",
         360
        ],
        [
         "2023-01-01T00:05:00.000+0000",
         360
        ]
       ],
       "datasetInfos": [],
       "dbfsResultPath": null,
       "isJsonSchema": true,
       "metadata": {},
       "overflow": false,
       "plotOptions": {
        "customPlotOptions": {},
        "displayType": "table",
        "pivotAggregation": null,
        "pivotColumns": null,
        "xColumns": null,
        "yColumns": null
       },
       "removedWidgets": [],
       "schema": [
        {
         "metadata": "{}",
         "name": "measurementDate",
         "type": "\"timestamp\""
        },
        {
         "metadata": "{}",
         "name": "cnt",
         "type": "\"long\""
        }
       ],
       "type": "table"
      }
     },
     "output_type": "display_data"
    }
   ],
   "source": [
    "%sql\n",
    "\n",
    "-- Check your result for testing. Do not do this in production!\n",
    "\n",
    "SELECT measurementDate, count(*) as cnt\n",
    "FROM iotSmartGrid.powerConsumption\n",
    "GROUP BY measurementDate;"
   ]
  }
 ],
 "metadata": {
  "application/vnd.databricks.v1+notebook": {
   "dashboards": [
    {
     "elements": [],
     "globalVars": {},
     "guid": "3268dece-8731-44dc-a77e-001edadbd764",
     "layoutOption": {
      "grid": true,
      "stack": true
     },
     "nuid": "6cdbe2b5-4eaa-4505-9935-7affb15bc438",
     "origId": 2559840691490372,
     "title": "Demo 1-2",
     "version": "DashboardViewV1",
     "width": 1024
    }
   ],
   "language": "python",
   "notebookMetadata": {
    "mostRecentlyExecutedCommandWithImplicitDF": {
     "commandId": 3343708397846576,
     "dataframes": [
      "_sqldf"
     ]
    },
    "pythonIndentUnit": 4,
    "widgetLayout": []
   },
   "notebookName": "iotPowerConsumption_demo2-1",
   "notebookOrigID": 2559840691490356,
   "widgets": {
    "landing_folder": {
     "currentValue": "2023/01/01/000000",
     "nuid": "822af910-9dbd-453e-aecd-de532f929690",
     "widgetInfo": {
      "widgetType": "text",
      "defaultValue": "2023/01/01/000000",
      "label": null,
      "name": "landing_folder",
      "options": {
       "widgetType": "text",
       "validationRegex": null
      }
     }
    }
   }
  }
 },
 "nbformat": 4,
 "nbformat_minor": 0
}

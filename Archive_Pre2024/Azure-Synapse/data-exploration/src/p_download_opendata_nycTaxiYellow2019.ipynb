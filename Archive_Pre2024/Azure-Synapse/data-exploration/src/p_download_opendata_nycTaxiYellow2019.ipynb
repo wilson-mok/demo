{
  "cells": [
    {
      "cell_type": "code",
      "source": [
        "# Access the Open Data Storage to download the NYC Taxi - Yellow data.\r\n",
        "# https://docs.microsoft.com/en-us/azure/open-datasets/dataset-taxi-yellow?tabs=pyspark\r\n",
        "\r\n",
        "# Azure storage access info\r\n",
        "blob_account_name = \"azureopendatastorage\"\r\n",
        "blob_container_name = \"nyctlc\"\r\n",
        "blob_relative_path = \"yellow\"\r\n",
        "blob_sas_token = r\"\"\r\n",
        "\r\n",
        "# Allow SPARK to read from Blob remotely\r\n",
        "wasbs_path = 'wasbs://%s@%s.blob.core.windows.net/%s' % (blob_container_name, blob_account_name, blob_relative_path)\r\n",
        "spark.conf.set(\r\n",
        "  'fs.azure.sas.%s.%s.blob.core.windows.net' % (blob_container_name, blob_account_name),\r\n",
        "  blob_sas_token)\r\n",
        "print('Remote blob path: ' + wasbs_path)\r\n",
        "\r\n",
        "# SPARK read parquet, note that it won't load any data yet by now\r\n",
        "df = spark.read.parquet(wasbs_path)"
      ],
      "outputs": [
        {
          "output_type": "display_data",
          "data": {
            "application/vnd.livy.statement-meta+json": {
              "spark_pool": "demoSparkPool",
              "session_id": 1,
              "statement_id": 2,
              "state": "finished",
              "livy_statement_state": "available",
              "queued_time": "2022-05-18T04:05:35.6711068Z",
              "session_start_time": null,
              "execution_start_time": "2022-05-18T04:08:11.9666859Z",
              "execution_finish_time": "2022-05-18T04:08:23.1020806Z"
            },
            "text/plain": "StatementMeta(demoSparkPool, 1, 2, Finished, Available)"
          },
          "metadata": {}
        },
        {
          "output_type": "stream",
          "name": "stdout",
          "text": [
            "Remote blob path: wasbs://nyctlc@azureopendatastorage.blob.core.windows.net/yellow"
          ]
        }
      ],
      "execution_count": 1,
      "metadata": {}
    },
    {
      "cell_type": "code",
      "source": [
        "from pyspark.sql.functions import col\r\n",
        "dfY2019Jan = df.filter( (col(\"puYear\") == \"2019\") & (col(\"puMonth\") == \"1\") )\r\n",
        "\r\n",
        "# Write dfY2019 data out to our storage as 1 parquet file.\r\n",
        "dfY2019Jan.coalesce(1).write.parquet('abfss://data@dpsyndlsdemodev.dfs.core.windows.net/sourceData/nycTripYellow2019Jan/')\r\n",
        "\r\n",
        "# Have to rename the filename manually."
      ],
      "outputs": [
        {
          "output_type": "display_data",
          "data": {
            "application/vnd.livy.statement-meta+json": {
              "spark_pool": "demoSparkPool",
              "session_id": 1,
              "statement_id": 17,
              "state": "finished",
              "livy_statement_state": "available",
              "queued_time": "2022-05-18T04:26:43.7296737Z",
              "session_start_time": null,
              "execution_start_time": "2022-05-18T04:26:43.8953903Z",
              "execution_finish_time": "2022-05-18T04:27:25.3858499Z"
            },
            "text/plain": "StatementMeta(demoSparkPool, 1, 17, Finished, Available)"
          },
          "metadata": {}
        }
      ],
      "execution_count": 16,
      "metadata": {
        "jupyter": {
          "source_hidden": false,
          "outputs_hidden": false
        },
        "nteract": {
          "transient": {
            "deleting": false
          }
        }
      }
    }
  ],
  "metadata": {
    "kernelspec": {
      "name": "synapse_pyspark",
      "display_name": "Synapse PySpark"
    },
    "language_info": {
      "name": "python"
    },
    "description": null,
    "save_output": true,
    "synapse_widget": {
      "version": "0.1",
      "state": {}
    }
  },
  "nbformat": 4,
  "nbformat_minor": 2
}
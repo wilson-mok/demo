{
  "cells": [
    {
      "cell_type": "markdown",
      "source": [
        "### House Keeping items\r\n",
        "\r\n",
        "- Create Spark Pool\r\n",
        "- Monitor Pool to see Active applications\r\n",
        "- Spark UI - Environment - Check dynamicApplication settings\r\n"
      ],
      "metadata": {
        "nteract": {
          "transient": {
            "deleting": false
          }
        }
      }
    },
    {
      "cell_type": "code",
      "source": [
        "# Defining Parameters\r\n",
        "# > Click on the '...' > Toggle parameter cell\r\n",
        "\r\n",
        "accountName = \"stdemodatalake001\"\r\n",
        "containerName = \"demo\"\r\n",
        "tripPath = 'nycTripYellow2018/*.parquet'\r\n",
        "paymentTypePath = 'nycTripYellowPaymentType/nycTripYellowPaymentType.csv'"
      ],
      "outputs": [
        {
          "output_type": "display_data",
          "data": {
            "application/vnd.livy.statement-meta+json": {
              "spark_pool": "testPool",
              "statement_id": 15,
              "statement_ids": [
                15
              ],
              "state": "finished",
              "livy_statement_state": "available",
              "spark_jobs": null,
              "session_id": "3",
              "normalized_state": "finished",
              "queued_time": "2024-10-29T16:17:06.8957894Z",
              "session_start_time": null,
              "execution_start_time": "2024-10-29T16:17:07.0645179Z",
              "execution_finish_time": "2024-10-29T16:17:07.2307658Z",
              "parent_msg_id": "89010501-b67e-46a7-a371-80d82d63078a"
            },
            "text/plain": "StatementMeta(testPool, 3, 15, Finished, Available, Finished)"
          },
          "metadata": {}
        }
      ],
      "execution_count": 15,
      "metadata": {
        "jupyter": {
          "source_hidden": false,
          "outputs_hidden": false
        },
        "nteract": {
          "transient": {
            "deleting": false
          }
        },
        "tags": [
          "parameters"
        ]
      }
    },
    {
      "cell_type": "code",
      "source": [
        "# Check our data source using the parameters\r\n",
        "\r\n",
        "dataSource = f\"abfss://{containerName}@{accountName}.dfs.core.windows.net/\"\r\n",
        "print(dataSource)"
      ],
      "outputs": [
        {
          "output_type": "display_data",
          "data": {
            "application/vnd.livy.statement-meta+json": {
              "spark_pool": "testPool",
              "statement_id": 16,
              "statement_ids": [
                16
              ],
              "state": "finished",
              "livy_statement_state": "available",
              "spark_jobs": null,
              "session_id": "3",
              "normalized_state": "finished",
              "queued_time": "2024-10-29T16:17:06.9491562Z",
              "session_start_time": null,
              "execution_start_time": "2024-10-29T16:17:07.4020806Z",
              "execution_finish_time": "2024-10-29T16:17:07.5708344Z",
              "parent_msg_id": "1ed87aab-80d6-4ddf-ba79-acdd2ebf5877"
            },
            "text/plain": "StatementMeta(testPool, 3, 16, Finished, Available, Finished)"
          },
          "metadata": {}
        },
        {
          "output_type": "stream",
          "name": "stdout",
          "text": [
            "abfss://demo@stdemodatalake001.dfs.core.windows.net/\n"
          ]
        }
      ],
      "execution_count": 16,
      "metadata": {
        "jupyter": {
          "source_hidden": false,
          "outputs_hidden": false
        },
        "nteract": {
          "transient": {
            "deleting": false
          }
        }
      }
    },
    {
      "cell_type": "code",
      "source": [
        "# Reading - NYC Yellow Taxi data - Parquet format\r\n",
        "tripFileFormat = 'parquet'\r\n",
        "\r\n",
        "nycTaxiDf = spark.read.load(dataSource + tripPath, format=tripFileFormat)\r\n",
        "\r\n",
        "# Show 10 rows\r\n",
        "display(nycTaxiDf.limit(10))"
      ],
      "outputs": [
        {
          "output_type": "display_data",
          "data": {
            "application/vnd.livy.statement-meta+json": {
              "spark_pool": "testPool",
              "statement_id": 17,
              "statement_ids": [
                17
              ],
              "state": "finished",
              "livy_statement_state": "available",
              "spark_jobs": null,
              "session_id": "3",
              "normalized_state": "finished",
              "queued_time": "2024-10-29T16:17:07.0028982Z",
              "session_start_time": null,
              "execution_start_time": "2024-10-29T16:17:07.7770177Z",
              "execution_finish_time": "2024-10-29T16:17:16.5779648Z",
              "parent_msg_id": "86845ea8-b730-42cb-b85f-c7f12277c42f"
            },
            "text/plain": "StatementMeta(testPool, 3, 17, Finished, Available, Finished)"
          },
          "metadata": {}
        },
        {
          "output_type": "display_data",
          "data": {
            "application/vnd.synapse.widget-view+json": {
              "widget_id": "38143054-362f-4311-aab2-0395b6b29629",
              "widget_type": "Synapse.DataFrame"
            },
            "text/plain": "SynapseWidget(Synapse.DataFrame, 38143054-362f-4311-aab2-0395b6b29629)"
          },
          "metadata": {}
        }
      ],
      "execution_count": 17,
      "metadata": {
        "collapsed": false
      }
    },
    {
      "cell_type": "code",
      "source": [
        "from pyspark.sql.types import StructType, StructField\r\n",
        "from pyspark.sql.types import IntegerType, StringType\r\n",
        "\r\n",
        "# Reading - Reference: Payment Type - CSV format\r\n",
        "paymentTypeSchema = StructType([\r\n",
        "    StructField(\"PaymentTypeID\", IntegerType()),\r\n",
        "    StructField(\"description\", StringType())\r\n",
        "])\r\n",
        "\r\n",
        "paymentTypeDf = spark.read.options(header=True) \\\r\n",
        "          .schema(paymentTypeSchema) \\\r\n",
        "          .csv(dataSource + paymentTypePath) \r\n",
        "\r\n",
        "# Other common options: \r\n",
        "#   - inferSchema=True : Schema to be defined by spark. \r\n",
        "#   - quote='\"'        : Overwrite the default quote characters\r\n",
        "#   - escape='\\'       : Overwrite the default escape characters\r\n",
        "\r\n",
        "# You can break up your command for better readability using \"\\\"\r\n",
        "\r\n",
        "display(paymentTypeDf)"
      ],
      "outputs": [
        {
          "output_type": "display_data",
          "data": {
            "application/vnd.livy.statement-meta+json": {
              "spark_pool": "testPool",
              "statement_id": 18,
              "statement_ids": [
                18
              ],
              "state": "finished",
              "livy_statement_state": "available",
              "spark_jobs": null,
              "session_id": "3",
              "normalized_state": "finished",
              "queued_time": "2024-10-29T16:17:07.0583707Z",
              "session_start_time": null,
              "execution_start_time": "2024-10-29T16:17:16.8037261Z",
              "execution_finish_time": "2024-10-29T16:17:18.2509281Z",
              "parent_msg_id": "29f09b6a-5472-4e91-8429-19176fef2787"
            },
            "text/plain": "StatementMeta(testPool, 3, 18, Finished, Available, Finished)"
          },
          "metadata": {}
        },
        {
          "output_type": "display_data",
          "data": {
            "application/vnd.synapse.widget-view+json": {
              "widget_id": "0923f5b1-91f9-4b51-9e5f-19da03727a39",
              "widget_type": "Synapse.DataFrame"
            },
            "text/plain": "SynapseWidget(Synapse.DataFrame, 0923f5b1-91f9-4b51-9e5f-19da03727a39)"
          },
          "metadata": {}
        }
      ],
      "execution_count": 18,
      "metadata": {
        "jupyter": {
          "source_hidden": false,
          "outputs_hidden": false
        },
        "nteract": {
          "transient": {
            "deleting": false
          }
        },
        "collapsed": false
      }
    },
    {
      "cell_type": "code",
      "source": [
        "# Schema is defined in the parquet. Check schema of the Taxi data\r\n",
        "\r\n",
        "display(nycTaxiDf.dtypes)"
      ],
      "outputs": [
        {
          "output_type": "display_data",
          "data": {
            "application/vnd.livy.statement-meta+json": {
              "spark_pool": "testPool",
              "statement_id": 19,
              "statement_ids": [
                19
              ],
              "state": "finished",
              "livy_statement_state": "available",
              "spark_jobs": null,
              "session_id": "3",
              "normalized_state": "finished",
              "queued_time": "2024-10-29T16:17:07.1721955Z",
              "session_start_time": null,
              "execution_start_time": "2024-10-29T16:17:18.4083341Z",
              "execution_finish_time": "2024-10-29T16:17:19.5257218Z",
              "parent_msg_id": "36e25b42-7fce-4b9c-8d87-47478d893b39"
            },
            "text/plain": "StatementMeta(testPool, 3, 19, Finished, Available, Finished)"
          },
          "metadata": {}
        },
        {
          "output_type": "display_data",
          "data": {
            "application/vnd.synapse.widget-view+json": {
              "widget_id": "461ca8b9-55b1-4f45-a744-33d28ed88e23",
              "widget_type": "Synapse.DataFrame"
            },
            "text/plain": "SynapseWidget(Synapse.DataFrame, 461ca8b9-55b1-4f45-a744-33d28ed88e23)"
          },
          "metadata": {}
        }
      ],
      "execution_count": 19,
      "metadata": {
        "jupyter": {
          "source_hidden": false,
          "outputs_hidden": false
        },
        "nteract": {
          "transient": {
            "deleting": false
          }
        },
        "collapsed": false
      }
    },
    {
      "cell_type": "code",
      "source": [
        "# Fix data type and create new columns\r\n",
        "\r\n",
        "from pyspark.sql.functions import col, avg, dayofweek, hour, to_date\r\n",
        "\r\n",
        "tripExtraDf = nycTaxiDf.withColumn(\"puLocationId\", col(\"puLocationId\").cast(\"int\")) \\\r\n",
        "                       .withColumn(\"doLocationId\", col(\"doLocationId\").cast(\"int\")) \\\r\n",
        "                       .withColumn(\"paymentTypeId\", col(\"paymentType\").cast(\"int\")) \\\r\n",
        "                       .withColumn(\"DayOfWeek\", dayofweek(\"tpepPickupDateTime\")) \\\r\n",
        "                       .withColumn(\"PickUpDate\", to_date(\"tpepPickupDateTime\")) \\\r\n",
        "                       .withColumn(\"PickUpHr\", hour(\"tpepPickupDateTime\"))\r\n",
        "\r\n",
        "# Show Tuesday\r\n",
        "display(tripExtraDf.select(\"puLocationId\", \"DayOfWeek\", \"PickUpDate\", \"PickUpHr\").filter(col(\"DayOfWeek\") == 3).limit(10))"
      ],
      "outputs": [
        {
          "output_type": "display_data",
          "data": {
            "application/vnd.livy.statement-meta+json": {
              "spark_pool": "testPool",
              "statement_id": 20,
              "statement_ids": [
                20
              ],
              "state": "finished",
              "livy_statement_state": "available",
              "spark_jobs": null,
              "session_id": "3",
              "normalized_state": "finished",
              "queued_time": "2024-10-29T16:17:07.2981867Z",
              "session_start_time": null,
              "execution_start_time": "2024-10-29T16:17:19.7063261Z",
              "execution_finish_time": "2024-10-29T16:17:20.8159745Z",
              "parent_msg_id": "aa9a86b3-cf22-407f-8461-34af2622a326"
            },
            "text/plain": "StatementMeta(testPool, 3, 20, Finished, Available, Finished)"
          },
          "metadata": {}
        },
        {
          "output_type": "display_data",
          "data": {
            "application/vnd.synapse.widget-view+json": {
              "widget_id": "e35087f4-0781-4181-9e31-2dc7b24ac642",
              "widget_type": "Synapse.DataFrame"
            },
            "text/plain": "SynapseWidget(Synapse.DataFrame, e35087f4-0781-4181-9e31-2dc7b24ac642)"
          },
          "metadata": {}
        }
      ],
      "execution_count": 20,
      "metadata": {
        "jupyter": {
          "source_hidden": false,
          "outputs_hidden": false
        },
        "nteract": {
          "transient": {
            "deleting": false
          }
        },
        "collapsed": false
      }
    },
    {
      "cell_type": "code",
      "source": [
        "# Join paymentType with trip data\r\n",
        "\r\n",
        "joinedPaymentDf = tripExtraDf.join(paymentTypeDf, tripExtraDf[\"paymentTypeId\"] == paymentTypeDf[\"PaymentTypeID\"], how=\"inner\")\r\n",
        "\r\n",
        "display(joinedPaymentDf.limit(10))\r\n",
        "\r\n",
        "# Check the Job -> \"Associated SQL Query\" to go to the SQL/Data Frame tab\r\n",
        "# BroadcastExchange "
      ],
      "outputs": [
        {
          "output_type": "display_data",
          "data": {
            "application/vnd.livy.statement-meta+json": {
              "spark_pool": "testPool",
              "statement_id": 21,
              "statement_ids": [
                21
              ],
              "state": "finished",
              "livy_statement_state": "available",
              "spark_jobs": null,
              "session_id": "3",
              "normalized_state": "finished",
              "queued_time": "2024-10-29T16:17:07.4226385Z",
              "session_start_time": null,
              "execution_start_time": "2024-10-29T16:17:20.9767502Z",
              "execution_finish_time": "2024-10-29T16:17:23.0729361Z",
              "parent_msg_id": "72f53fbf-292e-4342-8f44-44d1edc55edf"
            },
            "text/plain": "StatementMeta(testPool, 3, 21, Finished, Available, Finished)"
          },
          "metadata": {}
        },
        {
          "output_type": "display_data",
          "data": {
            "application/vnd.synapse.widget-view+json": {
              "widget_id": "7b1b8bd4-e2bd-4f1b-a714-a82a1e015b10",
              "widget_type": "Synapse.DataFrame"
            },
            "text/plain": "SynapseWidget(Synapse.DataFrame, 7b1b8bd4-e2bd-4f1b-a714-a82a1e015b10)"
          },
          "metadata": {}
        }
      ],
      "execution_count": 21,
      "metadata": {
        "jupyter": {
          "source_hidden": false,
          "outputs_hidden": false
        },
        "nteract": {
          "transient": {
            "deleting": false
          }
        },
        "collapsed": false
      }
    },
    {
      "cell_type": "code",
      "source": [
        "from pyspark.sql.functions import broadcast\r\n",
        "\r\n",
        "# To guarantee 'broadcast' is done, we have to explicit call it\r\n",
        "joinedPaymentDf2 = tripExtraDf.join(broadcast(paymentTypeDf), tripExtraDf[\"paymentTypeId\"] == paymentTypeDf[\"PaymentTypeID\"], how=\"inner\")\r\n",
        "\r\n",
        "display(joinedPaymentDf2.limit(10))\r\n",
        "\r\n",
        "\r\n",
        "# Check the Job -> \"Associated SQL Query\" to go to the SQL/Data Frame tab\r\n",
        "#   - BroadcastExchange "
      ],
      "outputs": [
        {
          "output_type": "display_data",
          "data": {
            "application/vnd.livy.statement-meta+json": {
              "spark_pool": "testPool",
              "statement_id": 22,
              "statement_ids": [
                22
              ],
              "state": "finished",
              "livy_statement_state": "available",
              "spark_jobs": null,
              "session_id": "3",
              "normalized_state": "finished",
              "queued_time": "2024-10-29T16:17:07.4860027Z",
              "session_start_time": null,
              "execution_start_time": "2024-10-29T16:17:23.229884Z",
              "execution_finish_time": "2024-10-29T16:17:24.3248644Z",
              "parent_msg_id": "556a0a9c-6511-4f0e-958f-9f85999be4d9"
            },
            "text/plain": "StatementMeta(testPool, 3, 22, Finished, Available, Finished)"
          },
          "metadata": {}
        },
        {
          "output_type": "display_data",
          "data": {
            "application/vnd.synapse.widget-view+json": {
              "widget_id": "8e3df8e0-e16e-4c9b-99d7-b66f0325d71b",
              "widget_type": "Synapse.DataFrame"
            },
            "text/plain": "SynapseWidget(Synapse.DataFrame, 8e3df8e0-e16e-4c9b-99d7-b66f0325d71b)"
          },
          "metadata": {}
        }
      ],
      "execution_count": 22,
      "metadata": {
        "jupyter": {
          "source_hidden": false,
          "outputs_hidden": false
        },
        "nteract": {
          "transient": {
            "deleting": false
          }
        },
        "collapsed": false
      }
    },
    {
      "cell_type": "code",
      "source": [
        "# Force Broadcast join on Large DS - Run live\r\n",
        "\r\n",
        "# from pyspark.sql.functions import broadcast\r\n",
        "\r\n",
        "# joinedPaymentDf3 = paymentTypeDf.join(broadcast(tripExtraDf), tripExtraDf[\"paymentTypeId\"] == paymentTypeDf[\"PaymentTypeID\"], how=\"inner\")\r\n",
        "\r\n",
        "# display(joinedPaymentDf3)"
      ],
      "outputs": [
        {
          "output_type": "display_data",
          "data": {
            "application/vnd.livy.statement-meta+json": {
              "spark_pool": "testPool",
              "statement_id": 23,
              "statement_ids": [
                23
              ],
              "state": "finished",
              "livy_statement_state": "available",
              "spark_jobs": null,
              "session_id": "3",
              "normalized_state": "finished",
              "queued_time": "2024-10-29T16:17:07.6118839Z",
              "session_start_time": null,
              "execution_start_time": "2024-10-29T16:17:24.477768Z",
              "execution_finish_time": "2024-10-29T16:17:24.6517409Z",
              "parent_msg_id": "fbeba7e0-70b0-4706-8a9c-d394cdbac88e"
            },
            "text/plain": "StatementMeta(testPool, 3, 23, Finished, Available, Finished)"
          },
          "metadata": {}
        }
      ],
      "execution_count": 23,
      "metadata": {
        "jupyter": {
          "source_hidden": false,
          "outputs_hidden": false
        },
        "nteract": {
          "transient": {
            "deleting": false
          }
        },
        "collapsed": false
      }
    },
    {
      "cell_type": "markdown",
      "source": [
        "# Demo Part 2"
      ],
      "metadata": {
        "nteract": {
          "transient": {
            "deleting": false
          }
        }
      }
    },
    {
      "cell_type": "code",
      "source": [
        "# Top 10 Zones by Fare per Mile (by Date of Week)\r\n",
        "# When, Window\r\n",
        "\r\n",
        "from pyspark.sql.functions import when, row_number, desc\r\n",
        "from pyspark.sql.window import Window\r\n",
        "\r\n",
        "farePerMileDf = tripExtraDf.withColumn(\"FarePerMile\", when(col(\"tripDistance\") > 0, col(\"fareAmount\")/col(\"tripDistance\")).otherwise(None))\r\n",
        "\r\n",
        "zoneFarePerMileDf = farePerMileDf.groupBy(\"puLocationId\", \"DayOfWeek\") \\\r\n",
        "                               .agg(avg(\"FarePerMile\").alias(\"AvgFarePerMile\"))\r\n",
        "\r\n",
        "# Get the top 10 zones\r\n",
        "top10ZonesDowDf = zoneFarePerMileDf.withColumn(\r\n",
        "    \"Rank\", row_number().over(\r\n",
        "            Window.partitionBy(\"DayOfWeek\").orderBy(desc(\"AvgFarePerMile\"))\r\n",
        "    )\r\n",
        ").filter(col(\"Rank\") <= 10)\r\n",
        "\r\n",
        "display(top10ZonesDowDf)\r\n",
        "\r\n",
        "# Check the Job with 26 tasks > \"Associated SQL Query\"\r\n",
        "#   - Exchange & ShuffleRead 1: zoneFarePerMileDf\r\n",
        "#   - Exchange & ShuffleRead 2: top10ZonesDowDf"
      ],
      "outputs": [
        {
          "output_type": "display_data",
          "data": {
            "application/vnd.livy.statement-meta+json": {
              "spark_pool": "testPool",
              "statement_id": 24,
              "statement_ids": [
                24
              ],
              "state": "finished",
              "livy_statement_state": "available",
              "spark_jobs": null,
              "session_id": "3",
              "normalized_state": "finished",
              "queued_time": "2024-10-29T16:17:07.7442601Z",
              "session_start_time": null,
              "execution_start_time": "2024-10-29T16:17:24.837868Z",
              "execution_finish_time": "2024-10-29T16:17:37.6689439Z",
              "parent_msg_id": "34d37356-bd92-4047-8875-147b4b52bd86"
            },
            "text/plain": "StatementMeta(testPool, 3, 24, Finished, Available, Finished)"
          },
          "metadata": {}
        },
        {
          "output_type": "display_data",
          "data": {
            "application/vnd.synapse.widget-view+json": {
              "widget_id": "9e0d9087-fc5e-4cfb-b9b3-b5e5c54e8bed",
              "widget_type": "Synapse.DataFrame"
            },
            "text/plain": "SynapseWidget(Synapse.DataFrame, 9e0d9087-fc5e-4cfb-b9b3-b5e5c54e8bed)"
          },
          "metadata": {}
        }
      ],
      "execution_count": 24,
      "metadata": {
        "jupyter": {
          "source_hidden": false,
          "outputs_hidden": false
        },
        "nteract": {
          "transient": {
            "deleting": false
          }
        },
        "collapsed": false
      }
    },
    {
      "cell_type": "code",
      "source": [
        "# What happened if we Repartition the data to use pickup Location ID and Day of Week only\r\n",
        "\r\n",
        "tripExtraDf2 = tripExtraDf.repartition(\"puLocationId\", \"DayOfWeek\")\r\n",
        "\r\n",
        "print(f\"Original Partition: {tripExtraDf.rdd.getNumPartitions()}\")\r\n",
        "print(f\"New Partition: {tripExtraDf2.rdd.getNumPartitions()}\")"
      ],
      "outputs": [
        {
          "output_type": "display_data",
          "data": {
            "application/vnd.livy.statement-meta+json": {
              "spark_pool": "testPool",
              "statement_id": 25,
              "statement_ids": [
                25
              ],
              "state": "finished",
              "livy_statement_state": "available",
              "spark_jobs": null,
              "session_id": "3",
              "normalized_state": "finished",
              "queued_time": "2024-10-29T16:17:07.8443298Z",
              "session_start_time": null,
              "execution_start_time": "2024-10-29T16:17:37.8377069Z",
              "execution_finish_time": "2024-10-29T16:18:01.1335636Z",
              "parent_msg_id": "2d3dbfba-4825-4d28-83af-db1cbee556ee"
            },
            "text/plain": "StatementMeta(testPool, 3, 25, Finished, Available, Finished)"
          },
          "metadata": {}
        },
        {
          "output_type": "stream",
          "name": "stdout",
          "text": [
            "Original Partition: 26\nNew Partition: 113\n"
          ]
        }
      ],
      "execution_count": 25,
      "metadata": {
        "jupyter": {
          "source_hidden": false,
          "outputs_hidden": false
        },
        "nteract": {
          "transient": {
            "deleting": false
          }
        },
        "collapsed": false
      }
    },
    {
      "cell_type": "code",
      "source": [
        "# Do the same calcuation using the new partitions\r\n",
        "\r\n",
        "farePerMileDf2 = tripExtraDf2.withColumn(\"FarePerMile\", when(col(\"tripDistance\") > 0, col(\"fareAmount\")/col(\"tripDistance\")).otherwise(None))\r\n",
        "\r\n",
        "zoneFarePerMileDf2 = farePerMileDf2.groupBy(\"puLocationId\", \"DayOfWeek\") \\\r\n",
        "                               .agg(avg(\"FarePerMile\").alias(\"AvgFarePerMile\"))\r\n",
        "\r\n",
        "# Get the top 10 zones\r\n",
        "top10ZonesDowDf2 = zoneFarePerMileDf2.withColumn(\r\n",
        "    \"Rank\", row_number().over(\r\n",
        "            Window.partitionBy(\"DayOfWeek\").orderBy(desc(\"AvgFarePerMile\"))\r\n",
        "    )\r\n",
        ").filter(col(\"Rank\") <= 10)\r\n",
        "\r\n",
        "display(top10ZonesDowDf2)\r\n",
        "\r\n",
        "# Performance got worst so the built-in optimizations are doing a better job"
      ],
      "outputs": [
        {
          "output_type": "display_data",
          "data": {
            "application/vnd.livy.statement-meta+json": {
              "spark_pool": "testPool",
              "statement_id": 26,
              "statement_ids": [
                26
              ],
              "state": "finished",
              "livy_statement_state": "available",
              "spark_jobs": null,
              "session_id": "3",
              "normalized_state": "finished",
              "queued_time": "2024-10-29T16:17:07.9521926Z",
              "session_start_time": null,
              "execution_start_time": "2024-10-29T16:18:01.3192841Z",
              "execution_finish_time": "2024-10-29T16:18:14.1086047Z",
              "parent_msg_id": "791f7661-1b66-414f-9962-743adbad9897"
            },
            "text/plain": "StatementMeta(testPool, 3, 26, Finished, Available, Finished)"
          },
          "metadata": {}
        },
        {
          "output_type": "display_data",
          "data": {
            "application/vnd.synapse.widget-view+json": {
              "widget_id": "67689f3c-cb4e-4548-9824-be83054b5517",
              "widget_type": "Synapse.DataFrame"
            },
            "text/plain": "SynapseWidget(Synapse.DataFrame, 67689f3c-cb4e-4548-9824-be83054b5517)"
          },
          "metadata": {}
        }
      ],
      "execution_count": 26,
      "metadata": {
        "jupyter": {
          "source_hidden": false,
          "outputs_hidden": false
        },
        "nteract": {
          "transient": {
            "deleting": false
          }
        },
        "collapsed": false
      }
    },
    {
      "cell_type": "code",
      "source": [
        "# Lets see why our repartition might not be a good idea\r\n",
        "\r\n",
        "from pyspark.sql.functions import count\r\n",
        "\r\n",
        "skewCheckDf = farePerMileDf.groupBy(\"puLocationId\", \"DayOfWeek\").agg(count(\"*\").alias(\"RecordCount\"))\r\n",
        "\r\n",
        "display(skewCheckDf)\r\n",
        "\r\n",
        "# Chart view > Line, Key (puLocationId, DayOfWeek), Values (RecordCount)"
      ],
      "outputs": [
        {
          "output_type": "display_data",
          "data": {
            "application/vnd.livy.statement-meta+json": {
              "spark_pool": "testPool",
              "statement_id": 27,
              "statement_ids": [
                27
              ],
              "state": "finished",
              "livy_statement_state": "available",
              "spark_jobs": null,
              "session_id": "3",
              "normalized_state": "finished",
              "queued_time": "2024-10-29T16:17:08.0255461Z",
              "session_start_time": null,
              "execution_start_time": "2024-10-29T16:18:14.2843514Z",
              "execution_finish_time": "2024-10-29T16:18:19.724308Z",
              "parent_msg_id": "62e8cdd9-b391-4c7f-ac91-400f77406dae"
            },
            "text/plain": "StatementMeta(testPool, 3, 27, Finished, Available, Finished)"
          },
          "metadata": {}
        },
        {
          "output_type": "display_data",
          "data": {
            "application/vnd.synapse.widget-view+json": {
              "widget_id": "e1f91dc9-c75f-4619-89b5-6fb725f309d8",
              "widget_type": "Synapse.DataFrame"
            },
            "text/plain": "SynapseWidget(Synapse.DataFrame, e1f91dc9-c75f-4619-89b5-6fb725f309d8)"
          },
          "metadata": {}
        }
      ],
      "execution_count": 27,
      "metadata": {
        "jupyter": {
          "source_hidden": false,
          "outputs_hidden": false
        },
        "nteract": {
          "transient": {
            "deleting": false
          }
        },
        "collapsed": false
      }
    },
    {
      "cell_type": "code",
      "source": [
        "# Write the Top 10 Zones by Fare per Mile (by Date of Week)\r\n",
        "#  for SQL to access\r\n",
        "\r\n",
        "top10ZonesDowDf.write.mode(\"overwrite\").saveAsTable(\"demoDataSparkDb.top10Zones2018\")"
      ],
      "outputs": [
        {
          "output_type": "display_data",
          "data": {
            "application/vnd.livy.statement-meta+json": {
              "spark_pool": "testPool",
              "statement_id": 28,
              "statement_ids": [
                28
              ],
              "state": "finished",
              "livy_statement_state": "available",
              "spark_jobs": null,
              "session_id": "3",
              "normalized_state": "finished",
              "queued_time": "2024-10-29T16:17:08.0982497Z",
              "session_start_time": null,
              "execution_start_time": "2024-10-29T16:18:19.8876509Z",
              "execution_finish_time": "2024-10-29T16:18:36.8058496Z",
              "parent_msg_id": "523d11b5-7cf3-40e0-a546-3c9ee754ec76"
            },
            "text/plain": "StatementMeta(testPool, 3, 28, Finished, Available, Finished)"
          },
          "metadata": {}
        }
      ],
      "execution_count": 28,
      "metadata": {
        "jupyter": {
          "source_hidden": false,
          "outputs_hidden": false
        },
        "nteract": {
          "transient": {
            "deleting": false
          }
        }
      }
    },
    {
      "cell_type": "code",
      "source": [
        "# Read the SQL Table\r\n",
        "\r\n",
        "dfTest = spark.read.table(\"demoDataSparkDb.top10Zones2018\")\r\n",
        "\r\n",
        "display(dfTest.limit(10))"
      ],
      "outputs": [
        {
          "output_type": "display_data",
          "data": {
            "application/vnd.livy.statement-meta+json": {
              "spark_pool": "testPool",
              "statement_id": 29,
              "statement_ids": [
                29
              ],
              "state": "finished",
              "livy_statement_state": "available",
              "spark_jobs": null,
              "session_id": "3",
              "normalized_state": "finished",
              "queued_time": "2024-10-29T16:17:08.1670635Z",
              "session_start_time": null,
              "execution_start_time": "2024-10-29T16:18:36.9726123Z",
              "execution_finish_time": "2024-10-29T16:18:38.2122525Z",
              "parent_msg_id": "d7bdd22c-816f-47ce-b8be-a21911e9ab85"
            },
            "text/plain": "StatementMeta(testPool, 3, 29, Finished, Available, Finished)"
          },
          "metadata": {}
        },
        {
          "output_type": "display_data",
          "data": {
            "application/vnd.synapse.widget-view+json": {
              "widget_id": "ef33e7f8-fb29-4d50-b414-bdf8e2374f57",
              "widget_type": "Synapse.DataFrame"
            },
            "text/plain": "SynapseWidget(Synapse.DataFrame, ef33e7f8-fb29-4d50-b414-bdf8e2374f57)"
          },
          "metadata": {}
        }
      ],
      "execution_count": 29,
      "metadata": {
        "jupyter": {
          "source_hidden": false,
          "outputs_hidden": false
        },
        "nteract": {
          "transient": {
            "deleting": false
          }
        },
        "collapsed": false
      }
    },
    {
      "cell_type": "code",
      "source": [
        "# If you are running this as a notebook, this is required to stop the Spark Application\r\n",
        "\r\n",
        "# mssparkutils.session.stop()"
      ],
      "outputs": [
        {
          "output_type": "display_data",
          "data": {
            "application/vnd.livy.statement-meta+json": {
              "spark_pool": "testPool",
              "statement_id": 30,
              "statement_ids": [
                30
              ],
              "state": "finished",
              "livy_statement_state": "available",
              "spark_jobs": null,
              "session_id": "3",
              "normalized_state": "finished",
              "queued_time": "2024-10-29T16:17:08.218307Z",
              "session_start_time": null,
              "execution_start_time": "2024-10-29T16:18:38.3737872Z",
              "execution_finish_time": "2024-10-29T16:18:38.5389054Z",
              "parent_msg_id": "10686967-df21-4a7f-bab4-ba2b4f0fcdbe"
            },
            "text/plain": "StatementMeta(testPool, 3, 30, Finished, Available, Finished)"
          },
          "metadata": {}
        }
      ],
      "execution_count": 30,
      "metadata": {
        "jupyter": {
          "source_hidden": false,
          "outputs_hidden": false
        },
        "nteract": {
          "transient": {
            "deleting": false
          }
        }
      }
    }
  ],
  "metadata": {
    "language_info": {
      "name": "python"
    },
    "kernelspec": {
      "name": "synapse_pyspark",
      "language": "Python",
      "display_name": "Synapse PySpark"
    },
    "kernel_info": {
      "name": "synapse_pyspark"
    },
    "description": null,
    "save_output": true,
    "synapse_widget": {
      "version": "0.1",
      "state": {
        "38143054-362f-4311-aab2-0395b6b29629": {
          "type": "Synapse.DataFrame",
          "sync_state": {
            "table": {
              "rows": [
                {
                  "0": "1",
                  "1": "2018-03-03 21:34:06",
                  "2": "2018-03-03 21:40:49",
                  "3": "1",
                  "4": "1.1",
                  "5": "107",
                  "6": "162",
                  "11": "1",
                  "12": "N",
                  "13": "1",
                  "14": "6.5",
                  "15": "0.5",
                  "16": "0.5",
                  "17": "0.3",
                  "18": "1.55",
                  "19": "0.0",
                  "20": "9.35",
                  "21": "2018",
                  "22": "3"
                },
                {
                  "0": "2",
                  "1": "2018-02-28 08:36:39",
                  "2": "2018-03-01 08:04:38",
                  "3": "1",
                  "4": "2.44",
                  "5": "25",
                  "6": "45",
                  "11": "1",
                  "12": "N",
                  "13": "2",
                  "14": "10.0",
                  "15": "0.0",
                  "16": "0.5",
                  "17": "0.3",
                  "18": "0.0",
                  "19": "0.0",
                  "20": "10.8",
                  "21": "2018",
                  "22": "3"
                },
                {
                  "0": "1",
                  "1": "2018-03-03 20:59:16",
                  "2": "2018-03-03 21:05:31",
                  "3": "2",
                  "4": "0.9",
                  "5": "141",
                  "6": "161",
                  "11": "1",
                  "12": "N",
                  "13": "1",
                  "14": "6.0",
                  "15": "0.5",
                  "16": "0.5",
                  "17": "0.3",
                  "18": "1.45",
                  "19": "0.0",
                  "20": "8.75",
                  "21": "2018",
                  "22": "3"
                },
                {
                  "0": "2",
                  "1": "2018-02-28 04:16:22",
                  "2": "2018-03-01 04:03:42",
                  "3": "3",
                  "4": "2.32",
                  "5": "233",
                  "6": "263",
                  "11": "1",
                  "12": "N",
                  "13": "1",
                  "14": "8.0",
                  "15": "0.5",
                  "16": "0.5",
                  "17": "0.3",
                  "18": "1.86",
                  "19": "0.0",
                  "20": "11.16",
                  "21": "2018",
                  "22": "3"
                },
                {
                  "0": "1",
                  "1": "2018-03-04 01:36:29",
                  "2": "2018-03-04 01:42:15",
                  "3": "1",
                  "4": "1.2",
                  "5": "107",
                  "6": "170",
                  "11": "1",
                  "12": "N",
                  "13": "2",
                  "14": "6.5",
                  "15": "0.5",
                  "16": "0.5",
                  "17": "0.3",
                  "18": "0.0",
                  "19": "0.0",
                  "20": "7.8",
                  "21": "2018",
                  "22": "3"
                },
                {
                  "0": "1",
                  "1": "2018-03-04 20:10:04",
                  "2": "2018-03-04 20:10:51",
                  "3": "1",
                  "4": "0.0",
                  "5": "107",
                  "6": "107",
                  "11": "1",
                  "12": "N",
                  "13": "2",
                  "14": "2.5",
                  "15": "0.5",
                  "16": "0.5",
                  "17": "0.3",
                  "18": "0.0",
                  "19": "0.0",
                  "20": "3.8",
                  "21": "2018",
                  "22": "3"
                },
                {
                  "0": "2",
                  "1": "2018-03-04 02:57:18",
                  "2": "2018-03-04 03:10:19",
                  "3": "2",
                  "4": "1.9",
                  "5": "114",
                  "6": "79",
                  "11": "1",
                  "12": "N",
                  "13": "1",
                  "14": "10.5",
                  "15": "0.5",
                  "16": "0.5",
                  "17": "0.3",
                  "18": "2.36",
                  "19": "0.0",
                  "20": "14.16",
                  "21": "2018",
                  "22": "3"
                },
                {
                  "0": "2",
                  "1": "2018-03-04 22:09:33",
                  "2": "2018-03-04 22:18:14",
                  "3": "5",
                  "4": "3.69",
                  "5": "226",
                  "6": "137",
                  "11": "2",
                  "12": "N",
                  "13": "1",
                  "14": "52.0",
                  "15": "0.0",
                  "16": "0.5",
                  "17": "0.3",
                  "18": "11.71",
                  "19": "5.76",
                  "20": "70.27",
                  "21": "2018",
                  "22": "3"
                },
                {
                  "0": "2",
                  "1": "2018-03-03 21:45:35",
                  "2": "2018-03-03 21:54:23",
                  "3": "1",
                  "4": "1.33",
                  "5": "161",
                  "6": "48",
                  "11": "1",
                  "12": "N",
                  "13": "2",
                  "14": "7.5",
                  "15": "0.5",
                  "16": "0.5",
                  "17": "0.3",
                  "18": "0.0",
                  "19": "0.0",
                  "20": "8.8",
                  "21": "2018",
                  "22": "3"
                },
                {
                  "0": "2",
                  "1": "2018-03-04 20:18:18",
                  "2": "2018-03-04 20:24:53",
                  "3": "1",
                  "4": "0.87",
                  "5": "163",
                  "6": "48",
                  "11": "1",
                  "12": "N",
                  "13": "2",
                  "14": "6.0",
                  "15": "0.5",
                  "16": "0.5",
                  "17": "0.3",
                  "18": "0.0",
                  "19": "0.0",
                  "20": "7.3",
                  "21": "2018",
                  "22": "3"
                }
              ],
              "schema": [
                {
                  "key": "0",
                  "name": "vendorID",
                  "type": "string"
                },
                {
                  "key": "1",
                  "name": "tpepPickupDateTime",
                  "type": "timestamp"
                },
                {
                  "key": "2",
                  "name": "tpepDropoffDateTime",
                  "type": "timestamp"
                },
                {
                  "key": "3",
                  "name": "passengerCount",
                  "type": "int"
                },
                {
                  "key": "4",
                  "name": "tripDistance",
                  "type": "double"
                },
                {
                  "key": "5",
                  "name": "puLocationId",
                  "type": "string"
                },
                {
                  "key": "6",
                  "name": "doLocationId",
                  "type": "string"
                },
                {
                  "key": "7",
                  "name": "startLon",
                  "type": "double"
                },
                {
                  "key": "8",
                  "name": "startLat",
                  "type": "double"
                },
                {
                  "key": "9",
                  "name": "endLon",
                  "type": "double"
                },
                {
                  "key": "10",
                  "name": "endLat",
                  "type": "double"
                },
                {
                  "key": "11",
                  "name": "rateCodeId",
                  "type": "int"
                },
                {
                  "key": "12",
                  "name": "storeAndFwdFlag",
                  "type": "string"
                },
                {
                  "key": "13",
                  "name": "paymentType",
                  "type": "string"
                },
                {
                  "key": "14",
                  "name": "fareAmount",
                  "type": "double"
                },
                {
                  "key": "15",
                  "name": "extra",
                  "type": "double"
                },
                {
                  "key": "16",
                  "name": "mtaTax",
                  "type": "double"
                },
                {
                  "key": "17",
                  "name": "improvementSurcharge",
                  "type": "string"
                },
                {
                  "key": "18",
                  "name": "tipAmount",
                  "type": "double"
                },
                {
                  "key": "19",
                  "name": "tollsAmount",
                  "type": "double"
                },
                {
                  "key": "20",
                  "name": "totalAmount",
                  "type": "double"
                },
                {
                  "key": "21",
                  "name": "puYear",
                  "type": "int"
                },
                {
                  "key": "22",
                  "name": "puMonth",
                  "type": "int"
                }
              ],
              "truncated": false
            },
            "isSummary": false,
            "language": "scala",
            "wranglerEntryContext": {
              "dataframeType": "pyspark"
            }
          },
          "persist_state": {
            "view": {
              "type": "details",
              "tableOptions": {},
              "chartOptions": {
                "chartType": "bar",
                "aggregationType": "sum",
                "categoryFieldKeys": [
                  "0"
                ],
                "seriesFieldKeys": [
                  "3"
                ],
                "isStacked": false
              }
            }
          }
        },
        "0923f5b1-91f9-4b51-9e5f-19da03727a39": {
          "type": "Synapse.DataFrame",
          "sync_state": {
            "table": {
              "rows": [
                {
                  "0": "0",
                  "1": "Flex Fare trip"
                },
                {
                  "0": "1",
                  "1": "Credit card"
                },
                {
                  "0": "2",
                  "1": "Cash"
                },
                {
                  "0": "3",
                  "1": "No charge"
                },
                {
                  "0": "4",
                  "1": "Dispute"
                },
                {
                  "0": "5",
                  "1": "Unknown"
                },
                {
                  "0": "6",
                  "1": "Voided trip"
                }
              ],
              "schema": [
                {
                  "key": "0",
                  "name": "PaymentTypeID",
                  "type": "int"
                },
                {
                  "key": "1",
                  "name": "description",
                  "type": "string"
                }
              ],
              "truncated": false
            },
            "isSummary": false,
            "language": "scala",
            "wranglerEntryContext": {
              "candidateVariableNames": [
                "paymentTypeDf"
              ],
              "dataframeType": "pyspark"
            }
          },
          "persist_state": {
            "view": {
              "type": "details",
              "tableOptions": {},
              "chartOptions": {
                "chartType": "bar",
                "aggregationType": "sum",
                "categoryFieldKeys": [
                  "1"
                ],
                "seriesFieldKeys": [
                  "0"
                ],
                "isStacked": false
              }
            }
          }
        },
        "461ca8b9-55b1-4f45-a744-33d28ed88e23": {
          "type": "Synapse.DataFrame",
          "sync_state": {
            "table": {
              "rows": [
                {
                  "0": "vendorID",
                  "1": "string"
                },
                {
                  "0": "tpepPickupDateTime",
                  "1": "timestamp"
                },
                {
                  "0": "tpepDropoffDateTime",
                  "1": "timestamp"
                },
                {
                  "0": "passengerCount",
                  "1": "int"
                },
                {
                  "0": "tripDistance",
                  "1": "double"
                },
                {
                  "0": "puLocationId",
                  "1": "string"
                },
                {
                  "0": "doLocationId",
                  "1": "string"
                },
                {
                  "0": "startLon",
                  "1": "double"
                },
                {
                  "0": "startLat",
                  "1": "double"
                },
                {
                  "0": "endLon",
                  "1": "double"
                },
                {
                  "0": "endLat",
                  "1": "double"
                },
                {
                  "0": "rateCodeId",
                  "1": "int"
                },
                {
                  "0": "storeAndFwdFlag",
                  "1": "string"
                },
                {
                  "0": "paymentType",
                  "1": "string"
                },
                {
                  "0": "fareAmount",
                  "1": "double"
                },
                {
                  "0": "extra",
                  "1": "double"
                },
                {
                  "0": "mtaTax",
                  "1": "double"
                },
                {
                  "0": "improvementSurcharge",
                  "1": "string"
                },
                {
                  "0": "tipAmount",
                  "1": "double"
                },
                {
                  "0": "tollsAmount",
                  "1": "double"
                },
                {
                  "0": "totalAmount",
                  "1": "double"
                },
                {
                  "0": "puYear",
                  "1": "int"
                },
                {
                  "0": "puMonth",
                  "1": "int"
                }
              ],
              "schema": [
                {
                  "key": "0",
                  "name": "_1",
                  "type": "string"
                },
                {
                  "key": "1",
                  "name": "_2",
                  "type": "string"
                }
              ],
              "truncated": false
            },
            "isSummary": false,
            "language": "scala",
            "wranglerEntryContext": null
          },
          "persist_state": {
            "view": {
              "type": "details",
              "tableOptions": {},
              "chartOptions": {
                "chartType": "bar",
                "aggregationType": "count",
                "categoryFieldKeys": [
                  "0"
                ],
                "seriesFieldKeys": [
                  "0"
                ],
                "isStacked": false
              }
            }
          }
        },
        "e35087f4-0781-4181-9e31-2dc7b24ac642": {
          "type": "Synapse.DataFrame",
          "sync_state": {
            "table": {
              "rows": [
                {
                  "0": "148",
                  "1": "3",
                  "2": "2018-03-06",
                  "3": "7"
                },
                {
                  "0": "186",
                  "1": "3",
                  "2": "2018-03-06",
                  "3": "6"
                },
                {
                  "0": "41",
                  "1": "3",
                  "2": "2018-03-06",
                  "3": "7"
                },
                {
                  "0": "263",
                  "1": "3",
                  "2": "2018-03-06",
                  "3": "8"
                },
                {
                  "0": "162",
                  "1": "3",
                  "2": "2018-03-06",
                  "3": "8"
                },
                {
                  "0": "246",
                  "1": "3",
                  "2": "2018-03-06",
                  "3": "7"
                },
                {
                  "0": "237",
                  "1": "3",
                  "2": "2018-03-06",
                  "3": "9"
                },
                {
                  "0": "129",
                  "1": "3",
                  "2": "2018-03-06",
                  "3": "8"
                },
                {
                  "0": "132",
                  "1": "3",
                  "2": "2018-03-06",
                  "3": "9"
                },
                {
                  "0": "236",
                  "1": "3",
                  "2": "2018-03-06",
                  "3": "7"
                }
              ],
              "schema": [
                {
                  "key": "0",
                  "name": "puLocationId",
                  "type": "int"
                },
                {
                  "key": "1",
                  "name": "DayOfWeek",
                  "type": "int"
                },
                {
                  "key": "2",
                  "name": "PickUpDate",
                  "type": "date"
                },
                {
                  "key": "3",
                  "name": "PickUpHr",
                  "type": "int"
                }
              ],
              "truncated": false
            },
            "isSummary": false,
            "language": "scala",
            "wranglerEntryContext": {
              "dataframeType": "pyspark"
            }
          },
          "persist_state": {
            "view": {
              "type": "details",
              "tableOptions": {},
              "chartOptions": {
                "chartType": "bar",
                "aggregationType": "sum",
                "categoryFieldKeys": [
                  "1"
                ],
                "seriesFieldKeys": [
                  "0"
                ],
                "isStacked": false
              }
            }
          }
        },
        "7b1b8bd4-e2bd-4f1b-a714-a82a1e015b10": {
          "type": "Synapse.DataFrame",
          "sync_state": {
            "table": {
              "rows": [
                {
                  "0": "1",
                  "1": "2018-03-03 21:34:06",
                  "2": "2018-03-03 21:40:49",
                  "3": "1",
                  "4": "1.1",
                  "5": "107",
                  "6": "162",
                  "11": "1",
                  "12": "N",
                  "13": "1",
                  "14": "6.5",
                  "15": "0.5",
                  "16": "0.5",
                  "17": "0.3",
                  "18": "1.55",
                  "19": "0.0",
                  "20": "9.35",
                  "21": "2018",
                  "22": "3",
                  "23": "1",
                  "24": "7",
                  "25": "2018-03-03",
                  "26": "21",
                  "27": "1",
                  "28": "Credit card"
                },
                {
                  "0": "2",
                  "1": "2018-02-28 08:36:39",
                  "2": "2018-03-01 08:04:38",
                  "3": "1",
                  "4": "2.44",
                  "5": "25",
                  "6": "45",
                  "11": "1",
                  "12": "N",
                  "13": "2",
                  "14": "10.0",
                  "15": "0.0",
                  "16": "0.5",
                  "17": "0.3",
                  "18": "0.0",
                  "19": "0.0",
                  "20": "10.8",
                  "21": "2018",
                  "22": "3",
                  "23": "2",
                  "24": "4",
                  "25": "2018-02-28",
                  "26": "8",
                  "27": "2",
                  "28": "Cash"
                },
                {
                  "0": "1",
                  "1": "2018-03-03 20:59:16",
                  "2": "2018-03-03 21:05:31",
                  "3": "2",
                  "4": "0.9",
                  "5": "141",
                  "6": "161",
                  "11": "1",
                  "12": "N",
                  "13": "1",
                  "14": "6.0",
                  "15": "0.5",
                  "16": "0.5",
                  "17": "0.3",
                  "18": "1.45",
                  "19": "0.0",
                  "20": "8.75",
                  "21": "2018",
                  "22": "3",
                  "23": "1",
                  "24": "7",
                  "25": "2018-03-03",
                  "26": "20",
                  "27": "1",
                  "28": "Credit card"
                },
                {
                  "0": "2",
                  "1": "2018-02-28 04:16:22",
                  "2": "2018-03-01 04:03:42",
                  "3": "3",
                  "4": "2.32",
                  "5": "233",
                  "6": "263",
                  "11": "1",
                  "12": "N",
                  "13": "1",
                  "14": "8.0",
                  "15": "0.5",
                  "16": "0.5",
                  "17": "0.3",
                  "18": "1.86",
                  "19": "0.0",
                  "20": "11.16",
                  "21": "2018",
                  "22": "3",
                  "23": "1",
                  "24": "4",
                  "25": "2018-02-28",
                  "26": "4",
                  "27": "1",
                  "28": "Credit card"
                },
                {
                  "0": "1",
                  "1": "2018-03-04 01:36:29",
                  "2": "2018-03-04 01:42:15",
                  "3": "1",
                  "4": "1.2",
                  "5": "107",
                  "6": "170",
                  "11": "1",
                  "12": "N",
                  "13": "2",
                  "14": "6.5",
                  "15": "0.5",
                  "16": "0.5",
                  "17": "0.3",
                  "18": "0.0",
                  "19": "0.0",
                  "20": "7.8",
                  "21": "2018",
                  "22": "3",
                  "23": "2",
                  "24": "1",
                  "25": "2018-03-04",
                  "26": "1",
                  "27": "2",
                  "28": "Cash"
                },
                {
                  "0": "1",
                  "1": "2018-03-04 20:10:04",
                  "2": "2018-03-04 20:10:51",
                  "3": "1",
                  "4": "0.0",
                  "5": "107",
                  "6": "107",
                  "11": "1",
                  "12": "N",
                  "13": "2",
                  "14": "2.5",
                  "15": "0.5",
                  "16": "0.5",
                  "17": "0.3",
                  "18": "0.0",
                  "19": "0.0",
                  "20": "3.8",
                  "21": "2018",
                  "22": "3",
                  "23": "2",
                  "24": "1",
                  "25": "2018-03-04",
                  "26": "20",
                  "27": "2",
                  "28": "Cash"
                },
                {
                  "0": "2",
                  "1": "2018-03-04 02:57:18",
                  "2": "2018-03-04 03:10:19",
                  "3": "2",
                  "4": "1.9",
                  "5": "114",
                  "6": "79",
                  "11": "1",
                  "12": "N",
                  "13": "1",
                  "14": "10.5",
                  "15": "0.5",
                  "16": "0.5",
                  "17": "0.3",
                  "18": "2.36",
                  "19": "0.0",
                  "20": "14.16",
                  "21": "2018",
                  "22": "3",
                  "23": "1",
                  "24": "1",
                  "25": "2018-03-04",
                  "26": "2",
                  "27": "1",
                  "28": "Credit card"
                },
                {
                  "0": "2",
                  "1": "2018-03-04 22:09:33",
                  "2": "2018-03-04 22:18:14",
                  "3": "5",
                  "4": "3.69",
                  "5": "226",
                  "6": "137",
                  "11": "2",
                  "12": "N",
                  "13": "1",
                  "14": "52.0",
                  "15": "0.0",
                  "16": "0.5",
                  "17": "0.3",
                  "18": "11.71",
                  "19": "5.76",
                  "20": "70.27",
                  "21": "2018",
                  "22": "3",
                  "23": "1",
                  "24": "1",
                  "25": "2018-03-04",
                  "26": "22",
                  "27": "1",
                  "28": "Credit card"
                },
                {
                  "0": "2",
                  "1": "2018-03-03 21:45:35",
                  "2": "2018-03-03 21:54:23",
                  "3": "1",
                  "4": "1.33",
                  "5": "161",
                  "6": "48",
                  "11": "1",
                  "12": "N",
                  "13": "2",
                  "14": "7.5",
                  "15": "0.5",
                  "16": "0.5",
                  "17": "0.3",
                  "18": "0.0",
                  "19": "0.0",
                  "20": "8.8",
                  "21": "2018",
                  "22": "3",
                  "23": "2",
                  "24": "7",
                  "25": "2018-03-03",
                  "26": "21",
                  "27": "2",
                  "28": "Cash"
                },
                {
                  "0": "2",
                  "1": "2018-03-04 20:18:18",
                  "2": "2018-03-04 20:24:53",
                  "3": "1",
                  "4": "0.87",
                  "5": "163",
                  "6": "48",
                  "11": "1",
                  "12": "N",
                  "13": "2",
                  "14": "6.0",
                  "15": "0.5",
                  "16": "0.5",
                  "17": "0.3",
                  "18": "0.0",
                  "19": "0.0",
                  "20": "7.3",
                  "21": "2018",
                  "22": "3",
                  "23": "2",
                  "24": "1",
                  "25": "2018-03-04",
                  "26": "20",
                  "27": "2",
                  "28": "Cash"
                }
              ],
              "schema": [
                {
                  "key": "0",
                  "name": "vendorID",
                  "type": "string"
                },
                {
                  "key": "1",
                  "name": "tpepPickupDateTime",
                  "type": "timestamp"
                },
                {
                  "key": "2",
                  "name": "tpepDropoffDateTime",
                  "type": "timestamp"
                },
                {
                  "key": "3",
                  "name": "passengerCount",
                  "type": "int"
                },
                {
                  "key": "4",
                  "name": "tripDistance",
                  "type": "double"
                },
                {
                  "key": "5",
                  "name": "puLocationId",
                  "type": "int"
                },
                {
                  "key": "6",
                  "name": "doLocationId",
                  "type": "int"
                },
                {
                  "key": "7",
                  "name": "startLon",
                  "type": "double"
                },
                {
                  "key": "8",
                  "name": "startLat",
                  "type": "double"
                },
                {
                  "key": "9",
                  "name": "endLon",
                  "type": "double"
                },
                {
                  "key": "10",
                  "name": "endLat",
                  "type": "double"
                },
                {
                  "key": "11",
                  "name": "rateCodeId",
                  "type": "int"
                },
                {
                  "key": "12",
                  "name": "storeAndFwdFlag",
                  "type": "string"
                },
                {
                  "key": "13",
                  "name": "paymentType",
                  "type": "string"
                },
                {
                  "key": "14",
                  "name": "fareAmount",
                  "type": "double"
                },
                {
                  "key": "15",
                  "name": "extra",
                  "type": "double"
                },
                {
                  "key": "16",
                  "name": "mtaTax",
                  "type": "double"
                },
                {
                  "key": "17",
                  "name": "improvementSurcharge",
                  "type": "string"
                },
                {
                  "key": "18",
                  "name": "tipAmount",
                  "type": "double"
                },
                {
                  "key": "19",
                  "name": "tollsAmount",
                  "type": "double"
                },
                {
                  "key": "20",
                  "name": "totalAmount",
                  "type": "double"
                },
                {
                  "key": "21",
                  "name": "puYear",
                  "type": "int"
                },
                {
                  "key": "22",
                  "name": "puMonth",
                  "type": "int"
                },
                {
                  "key": "23",
                  "name": "paymentTypeId",
                  "type": "int"
                },
                {
                  "key": "24",
                  "name": "DayOfWeek",
                  "type": "int"
                },
                {
                  "key": "25",
                  "name": "PickUpDate",
                  "type": "date"
                },
                {
                  "key": "26",
                  "name": "PickUpHr",
                  "type": "int"
                },
                {
                  "key": "27",
                  "name": "PaymentTypeID",
                  "type": "int"
                },
                {
                  "key": "28",
                  "name": "description",
                  "type": "string"
                }
              ],
              "truncated": false
            },
            "isSummary": false,
            "language": "scala",
            "wranglerEntryContext": {
              "dataframeType": "pyspark"
            }
          },
          "persist_state": {
            "view": {
              "type": "details",
              "tableOptions": {},
              "chartOptions": {
                "chartType": "bar",
                "aggregationType": "sum",
                "categoryFieldKeys": [
                  "0"
                ],
                "seriesFieldKeys": [
                  "3"
                ],
                "isStacked": false
              }
            }
          }
        },
        "8e3df8e0-e16e-4c9b-99d7-b66f0325d71b": {
          "type": "Synapse.DataFrame",
          "sync_state": {
            "table": {
              "rows": [
                {
                  "0": "1",
                  "1": "2018-03-03 21:34:06",
                  "2": "2018-03-03 21:40:49",
                  "3": "1",
                  "4": "1.1",
                  "5": "107",
                  "6": "162",
                  "11": "1",
                  "12": "N",
                  "13": "1",
                  "14": "6.5",
                  "15": "0.5",
                  "16": "0.5",
                  "17": "0.3",
                  "18": "1.55",
                  "19": "0.0",
                  "20": "9.35",
                  "21": "2018",
                  "22": "3",
                  "23": "1",
                  "24": "7",
                  "25": "2018-03-03",
                  "26": "21",
                  "27": "1",
                  "28": "Credit card"
                },
                {
                  "0": "2",
                  "1": "2018-02-28 08:36:39",
                  "2": "2018-03-01 08:04:38",
                  "3": "1",
                  "4": "2.44",
                  "5": "25",
                  "6": "45",
                  "11": "1",
                  "12": "N",
                  "13": "2",
                  "14": "10.0",
                  "15": "0.0",
                  "16": "0.5",
                  "17": "0.3",
                  "18": "0.0",
                  "19": "0.0",
                  "20": "10.8",
                  "21": "2018",
                  "22": "3",
                  "23": "2",
                  "24": "4",
                  "25": "2018-02-28",
                  "26": "8",
                  "27": "2",
                  "28": "Cash"
                },
                {
                  "0": "1",
                  "1": "2018-03-03 20:59:16",
                  "2": "2018-03-03 21:05:31",
                  "3": "2",
                  "4": "0.9",
                  "5": "141",
                  "6": "161",
                  "11": "1",
                  "12": "N",
                  "13": "1",
                  "14": "6.0",
                  "15": "0.5",
                  "16": "0.5",
                  "17": "0.3",
                  "18": "1.45",
                  "19": "0.0",
                  "20": "8.75",
                  "21": "2018",
                  "22": "3",
                  "23": "1",
                  "24": "7",
                  "25": "2018-03-03",
                  "26": "20",
                  "27": "1",
                  "28": "Credit card"
                },
                {
                  "0": "2",
                  "1": "2018-02-28 04:16:22",
                  "2": "2018-03-01 04:03:42",
                  "3": "3",
                  "4": "2.32",
                  "5": "233",
                  "6": "263",
                  "11": "1",
                  "12": "N",
                  "13": "1",
                  "14": "8.0",
                  "15": "0.5",
                  "16": "0.5",
                  "17": "0.3",
                  "18": "1.86",
                  "19": "0.0",
                  "20": "11.16",
                  "21": "2018",
                  "22": "3",
                  "23": "1",
                  "24": "4",
                  "25": "2018-02-28",
                  "26": "4",
                  "27": "1",
                  "28": "Credit card"
                },
                {
                  "0": "1",
                  "1": "2018-03-04 01:36:29",
                  "2": "2018-03-04 01:42:15",
                  "3": "1",
                  "4": "1.2",
                  "5": "107",
                  "6": "170",
                  "11": "1",
                  "12": "N",
                  "13": "2",
                  "14": "6.5",
                  "15": "0.5",
                  "16": "0.5",
                  "17": "0.3",
                  "18": "0.0",
                  "19": "0.0",
                  "20": "7.8",
                  "21": "2018",
                  "22": "3",
                  "23": "2",
                  "24": "1",
                  "25": "2018-03-04",
                  "26": "1",
                  "27": "2",
                  "28": "Cash"
                },
                {
                  "0": "1",
                  "1": "2018-03-04 20:10:04",
                  "2": "2018-03-04 20:10:51",
                  "3": "1",
                  "4": "0.0",
                  "5": "107",
                  "6": "107",
                  "11": "1",
                  "12": "N",
                  "13": "2",
                  "14": "2.5",
                  "15": "0.5",
                  "16": "0.5",
                  "17": "0.3",
                  "18": "0.0",
                  "19": "0.0",
                  "20": "3.8",
                  "21": "2018",
                  "22": "3",
                  "23": "2",
                  "24": "1",
                  "25": "2018-03-04",
                  "26": "20",
                  "27": "2",
                  "28": "Cash"
                },
                {
                  "0": "2",
                  "1": "2018-03-04 02:57:18",
                  "2": "2018-03-04 03:10:19",
                  "3": "2",
                  "4": "1.9",
                  "5": "114",
                  "6": "79",
                  "11": "1",
                  "12": "N",
                  "13": "1",
                  "14": "10.5",
                  "15": "0.5",
                  "16": "0.5",
                  "17": "0.3",
                  "18": "2.36",
                  "19": "0.0",
                  "20": "14.16",
                  "21": "2018",
                  "22": "3",
                  "23": "1",
                  "24": "1",
                  "25": "2018-03-04",
                  "26": "2",
                  "27": "1",
                  "28": "Credit card"
                },
                {
                  "0": "2",
                  "1": "2018-03-04 22:09:33",
                  "2": "2018-03-04 22:18:14",
                  "3": "5",
                  "4": "3.69",
                  "5": "226",
                  "6": "137",
                  "11": "2",
                  "12": "N",
                  "13": "1",
                  "14": "52.0",
                  "15": "0.0",
                  "16": "0.5",
                  "17": "0.3",
                  "18": "11.71",
                  "19": "5.76",
                  "20": "70.27",
                  "21": "2018",
                  "22": "3",
                  "23": "1",
                  "24": "1",
                  "25": "2018-03-04",
                  "26": "22",
                  "27": "1",
                  "28": "Credit card"
                },
                {
                  "0": "2",
                  "1": "2018-03-03 21:45:35",
                  "2": "2018-03-03 21:54:23",
                  "3": "1",
                  "4": "1.33",
                  "5": "161",
                  "6": "48",
                  "11": "1",
                  "12": "N",
                  "13": "2",
                  "14": "7.5",
                  "15": "0.5",
                  "16": "0.5",
                  "17": "0.3",
                  "18": "0.0",
                  "19": "0.0",
                  "20": "8.8",
                  "21": "2018",
                  "22": "3",
                  "23": "2",
                  "24": "7",
                  "25": "2018-03-03",
                  "26": "21",
                  "27": "2",
                  "28": "Cash"
                },
                {
                  "0": "2",
                  "1": "2018-03-04 20:18:18",
                  "2": "2018-03-04 20:24:53",
                  "3": "1",
                  "4": "0.87",
                  "5": "163",
                  "6": "48",
                  "11": "1",
                  "12": "N",
                  "13": "2",
                  "14": "6.0",
                  "15": "0.5",
                  "16": "0.5",
                  "17": "0.3",
                  "18": "0.0",
                  "19": "0.0",
                  "20": "7.3",
                  "21": "2018",
                  "22": "3",
                  "23": "2",
                  "24": "1",
                  "25": "2018-03-04",
                  "26": "20",
                  "27": "2",
                  "28": "Cash"
                }
              ],
              "schema": [
                {
                  "key": "0",
                  "name": "vendorID",
                  "type": "string"
                },
                {
                  "key": "1",
                  "name": "tpepPickupDateTime",
                  "type": "timestamp"
                },
                {
                  "key": "2",
                  "name": "tpepDropoffDateTime",
                  "type": "timestamp"
                },
                {
                  "key": "3",
                  "name": "passengerCount",
                  "type": "int"
                },
                {
                  "key": "4",
                  "name": "tripDistance",
                  "type": "double"
                },
                {
                  "key": "5",
                  "name": "puLocationId",
                  "type": "int"
                },
                {
                  "key": "6",
                  "name": "doLocationId",
                  "type": "int"
                },
                {
                  "key": "7",
                  "name": "startLon",
                  "type": "double"
                },
                {
                  "key": "8",
                  "name": "startLat",
                  "type": "double"
                },
                {
                  "key": "9",
                  "name": "endLon",
                  "type": "double"
                },
                {
                  "key": "10",
                  "name": "endLat",
                  "type": "double"
                },
                {
                  "key": "11",
                  "name": "rateCodeId",
                  "type": "int"
                },
                {
                  "key": "12",
                  "name": "storeAndFwdFlag",
                  "type": "string"
                },
                {
                  "key": "13",
                  "name": "paymentType",
                  "type": "string"
                },
                {
                  "key": "14",
                  "name": "fareAmount",
                  "type": "double"
                },
                {
                  "key": "15",
                  "name": "extra",
                  "type": "double"
                },
                {
                  "key": "16",
                  "name": "mtaTax",
                  "type": "double"
                },
                {
                  "key": "17",
                  "name": "improvementSurcharge",
                  "type": "string"
                },
                {
                  "key": "18",
                  "name": "tipAmount",
                  "type": "double"
                },
                {
                  "key": "19",
                  "name": "tollsAmount",
                  "type": "double"
                },
                {
                  "key": "20",
                  "name": "totalAmount",
                  "type": "double"
                },
                {
                  "key": "21",
                  "name": "puYear",
                  "type": "int"
                },
                {
                  "key": "22",
                  "name": "puMonth",
                  "type": "int"
                },
                {
                  "key": "23",
                  "name": "paymentTypeId",
                  "type": "int"
                },
                {
                  "key": "24",
                  "name": "DayOfWeek",
                  "type": "int"
                },
                {
                  "key": "25",
                  "name": "PickUpDate",
                  "type": "date"
                },
                {
                  "key": "26",
                  "name": "PickUpHr",
                  "type": "int"
                },
                {
                  "key": "27",
                  "name": "PaymentTypeID",
                  "type": "int"
                },
                {
                  "key": "28",
                  "name": "description",
                  "type": "string"
                }
              ],
              "truncated": false
            },
            "isSummary": false,
            "language": "scala",
            "wranglerEntryContext": {
              "dataframeType": "pyspark"
            }
          },
          "persist_state": {
            "view": {
              "type": "details",
              "tableOptions": {},
              "chartOptions": {
                "chartType": "bar",
                "aggregationType": "sum",
                "categoryFieldKeys": [
                  "0"
                ],
                "seriesFieldKeys": [
                  "3"
                ],
                "isStacked": false
              }
            }
          }
        },
        "9e0d9087-fc5e-4cfb-b9b3-b5e5c54e8bed": {
          "type": "Synapse.DataFrame",
          "sync_state": {
            "table": {
              "rows": [
                {
                  "0": "1",
                  "1": "1",
                  "2": "987.0665447210101",
                  "3": "1"
                },
                {
                  "0": "265",
                  "1": "1",
                  "2": "199.26506891738225",
                  "3": "2"
                },
                {
                  "0": "172",
                  "1": "1",
                  "2": "169.99377372623366",
                  "3": "3"
                },
                {
                  "0": "187",
                  "1": "1",
                  "2": "82.24797941208833",
                  "3": "4"
                },
                {
                  "0": "11",
                  "1": "1",
                  "2": "47.85570818717895",
                  "3": "5"
                },
                {
                  "0": "118",
                  "1": "1",
                  "2": "44.87815504715837",
                  "3": "6"
                },
                {
                  "0": "136",
                  "1": "1",
                  "2": "42.36449184709157",
                  "3": "7"
                },
                {
                  "0": "122",
                  "1": "1",
                  "2": "41.713054845437725",
                  "3": "8"
                },
                {
                  "0": "171",
                  "1": "1",
                  "2": "38.21281411966887",
                  "3": "9"
                },
                {
                  "0": "23",
                  "1": "1",
                  "2": "32.97436639909029",
                  "3": "10"
                },
                {
                  "0": "1",
                  "1": "2",
                  "2": "759.975604848041",
                  "3": "1"
                },
                {
                  "0": "265",
                  "1": "2",
                  "2": "182.94078393168982",
                  "3": "2"
                },
                {
                  "0": "214",
                  "1": "2",
                  "2": "89.93269899193517",
                  "3": "3"
                },
                {
                  "0": "109",
                  "1": "2",
                  "2": "87.13458583032978",
                  "3": "4"
                },
                {
                  "0": "206",
                  "1": "2",
                  "2": "80.01193088191793",
                  "3": "5"
                },
                {
                  "0": "23",
                  "1": "2",
                  "2": "70.89391878428025",
                  "3": "6"
                },
                {
                  "0": "3",
                  "1": "2",
                  "2": "55.12088897915411",
                  "3": "7"
                },
                {
                  "0": "29",
                  "1": "2",
                  "2": "26.528589317299105",
                  "3": "8"
                },
                {
                  "0": "85",
                  "1": "2",
                  "2": "22.076572787913477",
                  "3": "9"
                },
                {
                  "0": "154",
                  "1": "2",
                  "2": "20.80275154164228",
                  "3": "10"
                },
                {
                  "0": "1",
                  "1": "3",
                  "2": "714.2293125652203",
                  "3": "1"
                },
                {
                  "0": "23",
                  "1": "3",
                  "2": "178.93842319255188",
                  "3": "2"
                },
                {
                  "0": "265",
                  "1": "3",
                  "2": "176.15566365044873",
                  "3": "3"
                },
                {
                  "0": "31",
                  "1": "3",
                  "2": "128.170926164396",
                  "3": "4"
                },
                {
                  "0": "45",
                  "1": "3",
                  "2": "56.1110629655526",
                  "3": "5"
                },
                {
                  "0": "120",
                  "1": "3",
                  "2": "45.21370196167122",
                  "3": "6"
                },
                {
                  "0": "85",
                  "1": "3",
                  "2": "42.03733077519896",
                  "3": "7"
                },
                {
                  "0": "154",
                  "1": "3",
                  "2": "36.6804992485512",
                  "3": "8"
                },
                {
                  "0": "212",
                  "1": "3",
                  "2": "33.80369469627392",
                  "3": "9"
                },
                {
                  "0": "207",
                  "1": "3",
                  "2": "28.752348521123515",
                  "3": "10"
                },
                {
                  "0": "1",
                  "1": "4",
                  "2": "1090.2644313221172",
                  "3": "1"
                },
                {
                  "0": "265",
                  "1": "4",
                  "2": "192.14857325391583",
                  "3": "2"
                },
                {
                  "0": "31",
                  "1": "4",
                  "2": "86.9938629028091",
                  "3": "3"
                },
                {
                  "0": "150",
                  "1": "4",
                  "2": "45.07316437949024",
                  "3": "4"
                },
                {
                  "0": "23",
                  "1": "4",
                  "2": "32.018610332839316",
                  "3": "5"
                },
                {
                  "0": "101",
                  "1": "4",
                  "2": "31.73228435639588",
                  "3": "6"
                },
                {
                  "0": "126",
                  "1": "4",
                  "2": "27.512125089839586",
                  "3": "7"
                },
                {
                  "0": "147",
                  "1": "4",
                  "2": "24.99043148857635",
                  "3": "8"
                },
                {
                  "0": "197",
                  "1": "4",
                  "2": "23.503971721010817",
                  "3": "9"
                },
                {
                  "0": "216",
                  "1": "4",
                  "2": "21.814393597154073",
                  "3": "10"
                },
                {
                  "0": "28",
                  "1": "5",
                  "2": "7806.132781585595",
                  "3": "1"
                },
                {
                  "0": "1",
                  "1": "5",
                  "2": "784.6164849362691",
                  "3": "2"
                },
                {
                  "0": "204",
                  "1": "5",
                  "2": "751.9756943941192",
                  "3": "3"
                },
                {
                  "0": "265",
                  "1": "5",
                  "2": "199.54496328662083",
                  "3": "4"
                },
                {
                  "0": "156",
                  "1": "5",
                  "2": "87.09367390599552",
                  "3": "5"
                },
                {
                  "0": "133",
                  "1": "5",
                  "2": "56.69483195689514",
                  "3": "6"
                },
                {
                  "0": "154",
                  "1": "5",
                  "2": "52.803122668680565",
                  "3": "7"
                },
                {
                  "0": "84",
                  "1": "5",
                  "2": "44.69421744855024",
                  "3": "8"
                },
                {
                  "0": "124",
                  "1": "5",
                  "2": "38.88780579664364",
                  "3": "9"
                },
                {
                  "0": "245",
                  "1": "5",
                  "2": "37.42505275053634",
                  "3": "10"
                },
                {
                  "0": "1",
                  "1": "6",
                  "2": "1117.6374531840327",
                  "3": "1"
                },
                {
                  "0": "265",
                  "1": "6",
                  "2": "176.0366272049472",
                  "3": "2"
                },
                {
                  "0": "221",
                  "1": "6",
                  "2": "68.52441502400491",
                  "3": "3"
                },
                {
                  "0": "197",
                  "1": "6",
                  "2": "57.804744806026044",
                  "3": "4"
                },
                {
                  "0": "108",
                  "1": "6",
                  "2": "56.25962433021214",
                  "3": "5"
                },
                {
                  "0": "120",
                  "1": "6",
                  "2": "50.723636427298715",
                  "3": "6"
                },
                {
                  "0": "19",
                  "1": "6",
                  "2": "41.27468623126866",
                  "3": "7"
                },
                {
                  "0": "57",
                  "1": "6",
                  "2": "40.957218535257205",
                  "3": "8"
                },
                {
                  "0": "99",
                  "1": "6",
                  "2": "40.310077519379846",
                  "3": "9"
                },
                {
                  "0": "175",
                  "1": "6",
                  "2": "33.282851979893614",
                  "3": "10"
                },
                {
                  "0": "1",
                  "1": "7",
                  "2": "785.5520953856495",
                  "3": "1"
                },
                {
                  "0": "265",
                  "1": "7",
                  "2": "217.3255105729916",
                  "3": "2"
                },
                {
                  "0": "185",
                  "1": "7",
                  "2": "86.67593472099388",
                  "3": "3"
                },
                {
                  "0": "5",
                  "1": "7",
                  "2": "86.28005014321857",
                  "3": "4"
                },
                {
                  "0": "235",
                  "1": "7",
                  "2": "77.87775084597695",
                  "3": "5"
                },
                {
                  "0": "11",
                  "1": "7",
                  "2": "71.42245029068626",
                  "3": "6"
                },
                {
                  "0": "117",
                  "1": "7",
                  "2": "70.48211408593052",
                  "3": "7"
                },
                {
                  "0": "14",
                  "1": "7",
                  "2": "43.23382243190587",
                  "3": "8"
                },
                {
                  "0": "99",
                  "1": "7",
                  "2": "39.344",
                  "3": "9"
                },
                {
                  "0": "149",
                  "1": "7",
                  "2": "35.70794242390969",
                  "3": "10"
                }
              ],
              "schema": [
                {
                  "key": "0",
                  "name": "puLocationId",
                  "type": "int"
                },
                {
                  "key": "1",
                  "name": "DayOfWeek",
                  "type": "int"
                },
                {
                  "key": "2",
                  "name": "AvgFarePerMile",
                  "type": "double"
                },
                {
                  "key": "3",
                  "name": "Rank",
                  "type": "int"
                }
              ],
              "truncated": false
            },
            "isSummary": false,
            "language": "scala",
            "wranglerEntryContext": {
              "candidateVariableNames": [
                "top10ZonesDowDf"
              ],
              "dataframeType": "pyspark"
            }
          },
          "persist_state": {
            "view": {
              "type": "details",
              "tableOptions": {},
              "chartOptions": {
                "chartType": "bar",
                "aggregationType": "sum",
                "categoryFieldKeys": [
                  "1"
                ],
                "seriesFieldKeys": [
                  "0"
                ],
                "isStacked": false
              }
            }
          }
        },
        "67689f3c-cb4e-4548-9824-be83054b5517": {
          "type": "Synapse.DataFrame",
          "sync_state": {
            "table": {
              "rows": [
                {
                  "0": "1",
                  "1": "1",
                  "2": "987.0665447210097",
                  "3": "1"
                },
                {
                  "0": "265",
                  "1": "1",
                  "2": "199.26506891738217",
                  "3": "2"
                },
                {
                  "0": "172",
                  "1": "1",
                  "2": "169.99377372623366",
                  "3": "3"
                },
                {
                  "0": "187",
                  "1": "1",
                  "2": "82.24797941208833",
                  "3": "4"
                },
                {
                  "0": "11",
                  "1": "1",
                  "2": "47.85570818717896",
                  "3": "5"
                },
                {
                  "0": "118",
                  "1": "1",
                  "2": "44.87815504715839",
                  "3": "6"
                },
                {
                  "0": "136",
                  "1": "1",
                  "2": "42.36449184709156",
                  "3": "7"
                },
                {
                  "0": "122",
                  "1": "1",
                  "2": "41.71305484543773",
                  "3": "8"
                },
                {
                  "0": "171",
                  "1": "1",
                  "2": "38.21281411966886",
                  "3": "9"
                },
                {
                  "0": "23",
                  "1": "1",
                  "2": "32.974366399090286",
                  "3": "10"
                },
                {
                  "0": "1",
                  "1": "2",
                  "2": "759.9756048480408",
                  "3": "1"
                },
                {
                  "0": "265",
                  "1": "2",
                  "2": "182.94078393168985",
                  "3": "2"
                },
                {
                  "0": "214",
                  "1": "2",
                  "2": "89.93269899193517",
                  "3": "3"
                },
                {
                  "0": "109",
                  "1": "2",
                  "2": "87.13458583032978",
                  "3": "4"
                },
                {
                  "0": "206",
                  "1": "2",
                  "2": "80.01193088191792",
                  "3": "5"
                },
                {
                  "0": "23",
                  "1": "2",
                  "2": "70.89391878428025",
                  "3": "6"
                },
                {
                  "0": "3",
                  "1": "2",
                  "2": "55.120888979154124",
                  "3": "7"
                },
                {
                  "0": "29",
                  "1": "2",
                  "2": "26.528589317299133",
                  "3": "8"
                },
                {
                  "0": "85",
                  "1": "2",
                  "2": "22.076572787913484",
                  "3": "9"
                },
                {
                  "0": "154",
                  "1": "2",
                  "2": "20.802751541642294",
                  "3": "10"
                },
                {
                  "0": "1",
                  "1": "3",
                  "2": "714.2293125652203",
                  "3": "1"
                },
                {
                  "0": "23",
                  "1": "3",
                  "2": "178.93842319255188",
                  "3": "2"
                },
                {
                  "0": "265",
                  "1": "3",
                  "2": "176.15566365044845",
                  "3": "3"
                },
                {
                  "0": "31",
                  "1": "3",
                  "2": "128.17092616439595",
                  "3": "4"
                },
                {
                  "0": "45",
                  "1": "3",
                  "2": "56.111062965552534",
                  "3": "5"
                },
                {
                  "0": "120",
                  "1": "3",
                  "2": "45.21370196167122",
                  "3": "6"
                },
                {
                  "0": "85",
                  "1": "3",
                  "2": "42.037330775198974",
                  "3": "7"
                },
                {
                  "0": "154",
                  "1": "3",
                  "2": "36.68049924855119",
                  "3": "8"
                },
                {
                  "0": "212",
                  "1": "3",
                  "2": "33.80369469627393",
                  "3": "9"
                },
                {
                  "0": "207",
                  "1": "3",
                  "2": "28.752348521123526",
                  "3": "10"
                },
                {
                  "0": "1",
                  "1": "4",
                  "2": "1090.2644313221167",
                  "3": "1"
                },
                {
                  "0": "265",
                  "1": "4",
                  "2": "192.14857325391566",
                  "3": "2"
                },
                {
                  "0": "31",
                  "1": "4",
                  "2": "86.9938629028091",
                  "3": "3"
                },
                {
                  "0": "150",
                  "1": "4",
                  "2": "45.07316437949026",
                  "3": "4"
                },
                {
                  "0": "23",
                  "1": "4",
                  "2": "32.01861033283932",
                  "3": "5"
                },
                {
                  "0": "101",
                  "1": "4",
                  "2": "31.73228435639587",
                  "3": "6"
                },
                {
                  "0": "126",
                  "1": "4",
                  "2": "27.512125089839568",
                  "3": "7"
                },
                {
                  "0": "147",
                  "1": "4",
                  "2": "24.990431488576363",
                  "3": "8"
                },
                {
                  "0": "197",
                  "1": "4",
                  "2": "23.503971721010814",
                  "3": "9"
                },
                {
                  "0": "216",
                  "1": "4",
                  "2": "21.814393597154076",
                  "3": "10"
                },
                {
                  "0": "28",
                  "1": "5",
                  "2": "7806.132781585601",
                  "3": "1"
                },
                {
                  "0": "1",
                  "1": "5",
                  "2": "784.6164849362691",
                  "3": "2"
                },
                {
                  "0": "204",
                  "1": "5",
                  "2": "751.9756943941192",
                  "3": "3"
                },
                {
                  "0": "265",
                  "1": "5",
                  "2": "199.54496328662074",
                  "3": "4"
                },
                {
                  "0": "156",
                  "1": "5",
                  "2": "87.09367390599552",
                  "3": "5"
                },
                {
                  "0": "133",
                  "1": "5",
                  "2": "56.69483195689527",
                  "3": "6"
                },
                {
                  "0": "154",
                  "1": "5",
                  "2": "52.80312266868057",
                  "3": "7"
                },
                {
                  "0": "84",
                  "1": "5",
                  "2": "44.69421744855024",
                  "3": "8"
                },
                {
                  "0": "124",
                  "1": "5",
                  "2": "38.887805796643654",
                  "3": "9"
                },
                {
                  "0": "245",
                  "1": "5",
                  "2": "37.42505275053634",
                  "3": "10"
                },
                {
                  "0": "1",
                  "1": "6",
                  "2": "1117.637453184033",
                  "3": "1"
                },
                {
                  "0": "265",
                  "1": "6",
                  "2": "176.03662720494737",
                  "3": "2"
                },
                {
                  "0": "221",
                  "1": "6",
                  "2": "68.52441502400491",
                  "3": "3"
                },
                {
                  "0": "197",
                  "1": "6",
                  "2": "57.80474480602608",
                  "3": "4"
                },
                {
                  "0": "108",
                  "1": "6",
                  "2": "56.25962433021212",
                  "3": "5"
                },
                {
                  "0": "120",
                  "1": "6",
                  "2": "50.72363642729871",
                  "3": "6"
                },
                {
                  "0": "19",
                  "1": "6",
                  "2": "41.27468623126866",
                  "3": "7"
                },
                {
                  "0": "57",
                  "1": "6",
                  "2": "40.95721853525719",
                  "3": "8"
                },
                {
                  "0": "99",
                  "1": "6",
                  "2": "40.310077519379846",
                  "3": "9"
                },
                {
                  "0": "175",
                  "1": "6",
                  "2": "33.28285197989363",
                  "3": "10"
                },
                {
                  "0": "1",
                  "1": "7",
                  "2": "785.5520953856494",
                  "3": "1"
                },
                {
                  "0": "265",
                  "1": "7",
                  "2": "217.32551057299156",
                  "3": "2"
                },
                {
                  "0": "185",
                  "1": "7",
                  "2": "86.67593472099388",
                  "3": "3"
                },
                {
                  "0": "5",
                  "1": "7",
                  "2": "86.28005014321857",
                  "3": "4"
                },
                {
                  "0": "235",
                  "1": "7",
                  "2": "77.87775084597692",
                  "3": "5"
                },
                {
                  "0": "11",
                  "1": "7",
                  "2": "71.42245029068627",
                  "3": "6"
                },
                {
                  "0": "117",
                  "1": "7",
                  "2": "70.48211408593052",
                  "3": "7"
                },
                {
                  "0": "14",
                  "1": "7",
                  "2": "43.23382243190582",
                  "3": "8"
                },
                {
                  "0": "99",
                  "1": "7",
                  "2": "39.344",
                  "3": "9"
                },
                {
                  "0": "149",
                  "1": "7",
                  "2": "35.70794242390972",
                  "3": "10"
                }
              ],
              "schema": [
                {
                  "key": "0",
                  "name": "puLocationId",
                  "type": "int"
                },
                {
                  "key": "1",
                  "name": "DayOfWeek",
                  "type": "int"
                },
                {
                  "key": "2",
                  "name": "AvgFarePerMile",
                  "type": "double"
                },
                {
                  "key": "3",
                  "name": "Rank",
                  "type": "int"
                }
              ],
              "truncated": false
            },
            "isSummary": false,
            "language": "scala",
            "wranglerEntryContext": {
              "candidateVariableNames": [
                "top10ZonesDowDf2"
              ],
              "dataframeType": "pyspark"
            }
          },
          "persist_state": {
            "view": {
              "type": "details",
              "tableOptions": {},
              "chartOptions": {
                "chartType": "bar",
                "aggregationType": "sum",
                "categoryFieldKeys": [
                  "1"
                ],
                "seriesFieldKeys": [
                  "0"
                ],
                "isStacked": false
              }
            }
          }
        },
        "e1f91dc9-c75f-4619-89b5-6fb725f309d8": {
          "type": "Synapse.DataFrame",
          "sync_state": {
            "table": {
              "rows": [
                {
                  "0": "163",
                  "1": "7",
                  "2": "355268"
                },
                {
                  "0": "43",
                  "1": "7",
                  "2": "228618"
                },
                {
                  "0": "92",
                  "1": "2",
                  "2": "669"
                },
                {
                  "0": "162",
                  "1": "3",
                  "2": "603081"
                },
                {
                  "0": "71",
                  "1": "4",
                  "2": "653"
                },
                {
                  "0": "248",
                  "1": "4",
                  "2": "189"
                },
                {
                  "0": "203",
                  "1": "4",
                  "2": "301"
                },
                {
                  "0": "247",
                  "1": "5",
                  "2": "1978"
                },
                {
                  "0": "48",
                  "1": "6",
                  "2": "496287"
                },
                {
                  "0": "10",
                  "1": "2",
                  "2": "5149"
                },
                {
                  "0": "41",
                  "1": "3",
                  "2": "48744"
                },
                {
                  "0": "62",
                  "1": "1",
                  "2": "995"
                },
                {
                  "0": "108",
                  "1": "1",
                  "2": "156"
                },
                {
                  "0": "69",
                  "1": "1",
                  "2": "1066"
                },
                {
                  "0": "185",
                  "1": "1",
                  "2": "174"
                },
                {
                  "0": "192",
                  "1": "2",
                  "2": "196"
                },
                {
                  "0": "23",
                  "1": "6",
                  "2": "58"
                },
                {
                  "0": "118",
                  "1": "1",
                  "2": "28"
                },
                {
                  "0": "105",
                  "1": "1",
                  "2": "16"
                },
                {
                  "0": "59",
                  "1": "7",
                  "2": "16"
                },
                {
                  "0": "188",
                  "1": "4",
                  "2": "1990"
                },
                {
                  "0": "91",
                  "1": "6",
                  "2": "774"
                },
                {
                  "0": "83",
                  "1": "6",
                  "2": "1513"
                },
                {
                  "0": "17",
                  "1": "1",
                  "2": "3846"
                },
                {
                  "0": "17",
                  "1": "2",
                  "2": "2327"
                },
                {
                  "0": "16",
                  "1": "3",
                  "2": "229"
                },
                {
                  "0": "34",
                  "1": "5",
                  "2": "408"
                },
                {
                  "0": "115",
                  "1": "5",
                  "2": "16"
                },
                {
                  "0": "250",
                  "1": "6",
                  "2": "316"
                },
                {
                  "0": "205",
                  "1": "2",
                  "2": "539"
                },
                {
                  "0": "258",
                  "1": "4",
                  "2": "295"
                },
                {
                  "0": "57",
                  "1": "7",
                  "2": "54"
                },
                {
                  "0": "73",
                  "1": "4",
                  "2": "53"
                },
                {
                  "0": "79",
                  "1": "1",
                  "2": "523904"
                },
                {
                  "0": "113",
                  "1": "4",
                  "2": "237767"
                },
                {
                  "0": "45",
                  "1": "4",
                  "2": "31182"
                },
                {
                  "0": "112",
                  "1": "2",
                  "2": "3756"
                },
                {
                  "0": "123",
                  "1": "5",
                  "2": "481"
                },
                {
                  "0": "191",
                  "1": "1",
                  "2": "409"
                },
                {
                  "0": "159",
                  "1": "6",
                  "2": "1130"
                },
                {
                  "0": "125",
                  "1": "2",
                  "2": "80044"
                },
                {
                  "0": "152",
                  "1": "2",
                  "2": "13222"
                },
                {
                  "0": "80",
                  "1": "3",
                  "2": "3535"
                },
                {
                  "0": "160",
                  "1": "4",
                  "2": "292"
                },
                {
                  "0": "225",
                  "1": "5",
                  "2": "1420"
                },
                {
                  "0": "102",
                  "1": "4",
                  "2": "208"
                },
                {
                  "0": "6",
                  "1": "1",
                  "2": "60"
                },
                {
                  "0": "48",
                  "1": "1",
                  "2": "453645"
                },
                {
                  "0": "145",
                  "1": "5",
                  "2": "17945"
                },
                {
                  "0": "57",
                  "1": "6",
                  "2": "54"
                },
                {
                  "0": "102",
                  "1": "6",
                  "2": "248"
                },
                {
                  "0": "134",
                  "1": "7",
                  "2": "712"
                },
                {
                  "0": "208",
                  "1": "2",
                  "2": "219"
                },
                {
                  "0": "3",
                  "1": "1",
                  "2": "198"
                },
                {
                  "0": "153",
                  "1": "3",
                  "2": "243"
                },
                {
                  "0": "251",
                  "1": "2",
                  "2": "15"
                },
                {
                  "0": "90",
                  "1": "4",
                  "2": "261662"
                },
                {
                  "0": "40",
                  "1": "6",
                  "2": "9119"
                },
                {
                  "0": "72",
                  "1": "2",
                  "2": "617"
                },
                {
                  "0": "56",
                  "1": "4",
                  "2": "623"
                },
                {
                  "0": "200",
                  "1": "2",
                  "2": "245"
                },
                {
                  "0": "196",
                  "1": "1",
                  "2": "1148"
                },
                {
                  "0": "17",
                  "1": "3",
                  "2": "2258"
                },
                {
                  "0": "63",
                  "1": "4",
                  "2": "241"
                },
                {
                  "0": "227",
                  "1": "3",
                  "2": "362"
                },
                {
                  "0": "38",
                  "1": "6",
                  "2": "185"
                },
                {
                  "0": "147",
                  "1": "5",
                  "2": "229"
                },
                {
                  "0": "7",
                  "1": "4",
                  "2": "19636"
                },
                {
                  "0": "196",
                  "1": "4",
                  "2": "1078"
                },
                {
                  "0": "219",
                  "1": "3",
                  "2": "1412"
                },
                {
                  "0": "108",
                  "1": "2",
                  "2": "176"
                },
                {
                  "0": "86",
                  "1": "5",
                  "2": "119"
                },
                {
                  "0": "31",
                  "1": "7",
                  "2": "94"
                },
                {
                  "0": "242",
                  "1": "4",
                  "2": "435"
                },
                {
                  "0": "161",
                  "1": "5",
                  "2": "645772"
                },
                {
                  "0": "141",
                  "1": "5",
                  "2": "363694"
                },
                {
                  "0": "265",
                  "1": "5",
                  "2": "6995"
                },
                {
                  "0": "260",
                  "1": "6",
                  "2": "7964"
                },
                {
                  "0": "243",
                  "1": "1",
                  "2": "3758"
                },
                {
                  "0": "123",
                  "1": "2",
                  "2": "488"
                },
                {
                  "0": "202",
                  "1": "1",
                  "2": "653"
                },
                {
                  "0": "201",
                  "1": "1",
                  "2": "41"
                },
                {
                  "0": "47",
                  "1": "2",
                  "2": "310"
                },
                {
                  "0": "31",
                  "1": "2",
                  "2": "52"
                },
                {
                  "0": "111",
                  "1": "7",
                  "2": "51"
                },
                {
                  "0": "46",
                  "1": "3",
                  "2": "24"
                },
                {
                  "0": "2",
                  "1": "2",
                  "2": "10"
                },
                {
                  "0": "22",
                  "1": "6",
                  "2": "512"
                },
                {
                  "0": "146",
                  "1": "6",
                  "2": "14195"
                },
                {
                  "0": "239",
                  "1": "3",
                  "2": "369875"
                },
                {
                  "0": "18",
                  "1": "1",
                  "2": "326"
                },
                {
                  "0": "191",
                  "1": "6",
                  "2": "501"
                },
                {
                  "0": "190",
                  "1": "2",
                  "2": "393"
                },
                {
                  "0": "259",
                  "1": "2",
                  "2": "269"
                },
                {
                  "0": "61",
                  "1": "5",
                  "2": "2832"
                },
                {
                  "0": "212",
                  "1": "7",
                  "2": "326"
                },
                {
                  "0": "237",
                  "1": "2",
                  "2": "603189"
                },
                {
                  "0": "87",
                  "1": "2",
                  "2": "102418"
                },
                {
                  "0": "249",
                  "1": "3",
                  "2": "244273"
                },
                {
                  "0": "231",
                  "1": "3",
                  "2": "261655"
                },
                {
                  "0": "66",
                  "1": "3",
                  "2": "7302"
                },
                {
                  "0": "197",
                  "1": "5",
                  "2": "945"
                },
                {
                  "0": "252",
                  "1": "6",
                  "2": "176"
                },
                {
                  "0": "250",
                  "1": "2",
                  "2": "354"
                },
                {
                  "0": "9",
                  "1": "4",
                  "2": "167"
                },
                {
                  "0": "156",
                  "1": "5",
                  "2": "24"
                },
                {
                  "0": "169",
                  "1": "1",
                  "2": "464"
                },
                {
                  "0": "96",
                  "1": "5",
                  "2": "33"
                },
                {
                  "0": "12",
                  "1": "7",
                  "2": "9248"
                },
                {
                  "0": "19",
                  "1": "2",
                  "2": "239"
                },
                {
                  "0": "70",
                  "1": "2",
                  "2": "2156"
                },
                {
                  "0": "69",
                  "1": "2",
                  "2": "911"
                },
                {
                  "0": "227",
                  "1": "7",
                  "2": "297"
                },
                {
                  "0": "8",
                  "1": "3",
                  "2": "153"
                },
                {
                  "0": "132",
                  "1": "5",
                  "2": "359649"
                },
                {
                  "0": "62",
                  "1": "6",
                  "2": "1022"
                },
                {
                  "0": "71",
                  "1": "6",
                  "2": "680"
                },
                {
                  "0": "75",
                  "1": "7",
                  "2": "107053"
                },
                {
                  "0": "241",
                  "1": "7",
                  "2": "286"
                },
                {
                  "0": "151",
                  "1": "2",
                  "2": "117931"
                },
                {
                  "0": "95",
                  "1": "3",
                  "2": "2371"
                },
                {
                  "0": "124",
                  "1": "3",
                  "2": "327"
                },
                {
                  "0": "167",
                  "1": "5",
                  "2": "469"
                },
                {
                  "0": "86",
                  "1": "7",
                  "2": "94"
                },
                {
                  "0": "250",
                  "1": "1",
                  "2": "334"
                },
                {
                  "0": "118",
                  "1": "5",
                  "2": "20"
                },
                {
                  "0": "201",
                  "1": "2",
                  "2": "26"
                },
                {
                  "0": "117",
                  "1": "5",
                  "2": "84"
                },
                {
                  "0": "54",
                  "1": "4",
                  "2": "594"
                },
                {
                  "0": "143",
                  "1": "5",
                  "2": "180639"
                },
                {
                  "0": "114",
                  "1": "7",
                  "2": "283660"
                },
                {
                  "0": "124",
                  "1": "7",
                  "2": "191"
                },
                {
                  "0": "164",
                  "1": "3",
                  "2": "355279"
                },
                {
                  "0": "167",
                  "1": "2",
                  "2": "413"
                },
                {
                  "0": "139",
                  "1": "1",
                  "2": "223"
                },
                {
                  "0": "145",
                  "1": "4",
                  "2": "17385"
                },
                {
                  "0": "229",
                  "1": "5",
                  "2": "309426"
                },
                {
                  "0": "208",
                  "1": "6",
                  "2": "243"
                },
                {
                  "0": "196",
                  "1": "5",
                  "2": "1189"
                },
                {
                  "0": "90",
                  "1": "7",
                  "2": "300308"
                },
                {
                  "0": "226",
                  "1": "2",
                  "2": "22459"
                },
                {
                  "0": "226",
                  "1": "3",
                  "2": "21551"
                },
                {
                  "0": "93",
                  "1": "5",
                  "2": "1859"
                },
                {
                  "0": "71",
                  "1": "1",
                  "2": "599"
                },
                {
                  "0": "72",
                  "1": "1",
                  "2": "577"
                },
                {
                  "0": "67",
                  "1": "7",
                  "2": "208"
                },
                {
                  "0": "238",
                  "1": "4",
                  "2": "298411"
                },
                {
                  "0": "112",
                  "1": "5",
                  "2": "4934"
                },
                {
                  "0": "192",
                  "1": "6",
                  "2": "195"
                },
                {
                  "0": "148",
                  "1": "7",
                  "2": "355184"
                },
                {
                  "0": "237",
                  "1": "7",
                  "2": "506987"
                },
                {
                  "0": "162",
                  "1": "7",
                  "2": "378309"
                },
                {
                  "0": "116",
                  "1": "7",
                  "2": "20915"
                },
                {
                  "0": "47",
                  "1": "7",
                  "2": "339"
                },
                {
                  "0": "193",
                  "1": "2",
                  "2": "8534"
                },
                {
                  "0": "132",
                  "1": "3",
                  "2": "356189"
                },
                {
                  "0": "39",
                  "1": "3",
                  "2": "849"
                },
                {
                  "0": "46",
                  "1": "6",
                  "2": "36"
                },
                {
                  "0": "20",
                  "1": "2",
                  "2": "137"
                },
                {
                  "0": "117",
                  "1": "6",
                  "2": "86"
                },
                {
                  "0": "105",
                  "1": "6",
                  "2": "18"
                },
                {
                  "0": "1",
                  "1": "7",
                  "2": "1082"
                },
                {
                  "0": "163",
                  "1": "1",
                  "2": "305108"
                },
                {
                  "0": "167",
                  "1": "4",
                  "2": "418"
                },
                {
                  "0": "157",
                  "1": "1",
                  "2": "929"
                },
                {
                  "0": "155",
                  "1": "6",
                  "2": "508"
                },
                {
                  "0": "217",
                  "1": "6",
                  "2": "903"
                },
                {
                  "0": "161",
                  "1": "4",
                  "2": "656276"
                },
                {
                  "0": "231",
                  "1": "4",
                  "2": "271638"
                },
                {
                  "0": "255",
                  "1": "4",
                  "2": "9848"
                },
                {
                  "0": "181",
                  "1": "6",
                  "2": "15423"
                },
                {
                  "0": "82",
                  "1": "6",
                  "2": "3757"
                },
                {
                  "0": "4",
                  "1": "7",
                  "2": "47436"
                },
                {
                  "0": "7",
                  "1": "1",
                  "2": "29752"
                },
                {
                  "0": "165",
                  "1": "1",
                  "2": "417"
                },
                {
                  "0": "140",
                  "1": "3",
                  "2": "288866"
                },
                {
                  "0": "11",
                  "1": "6",
                  "2": "193"
                },
                {
                  "0": "173",
                  "1": "3",
                  "2": "376"
                },
                {
                  "0": "44",
                  "1": "5",
                  "2": "5"
                },
                {
                  "0": "142",
                  "1": "4",
                  "2": "461144"
                },
                {
                  "0": "165",
                  "1": "4",
                  "2": "675"
                },
                {
                  "0": "208",
                  "1": "4",
                  "2": "189"
                },
                {
                  "0": "222",
                  "1": "6",
                  "2": "322"
                },
                {
                  "0": "12",
                  "1": "2",
                  "2": "6347"
                },
                {
                  "0": "207",
                  "1": "4",
                  "2": "1027"
                },
                {
                  "0": "247",
                  "1": "6",
                  "2": "2351"
                },
                {
                  "0": "53",
                  "1": "3",
                  "2": "179"
                },
                {
                  "0": "259",
                  "1": "3",
                  "2": "285"
                },
                {
                  "0": "116",
                  "1": "4",
                  "2": "15036"
                },
                {
                  "0": "100",
                  "1": "6",
                  "2": "322544"
                },
                {
                  "0": "25",
                  "1": "1",
                  "2": "15082"
                },
                {
                  "0": "35",
                  "1": "2",
                  "2": "709"
                },
                {
                  "0": "191",
                  "1": "5",
                  "2": "380"
                },
                {
                  "0": "27",
                  "1": "4",
                  "2": "29"
                },
                {
                  "0": "117",
                  "1": "1",
                  "2": "122"
                },
                {
                  "0": "162",
                  "1": "4",
                  "2": "607472"
                },
                {
                  "0": "107",
                  "1": "7",
                  "2": "380196"
                },
                {
                  "0": "1",
                  "1": "2",
                  "2": "965"
                },
                {
                  "0": "165",
                  "1": "3",
                  "2": "599"
                },
                {
                  "0": "56",
                  "1": "3",
                  "2": "594"
                },
                {
                  "0": "252",
                  "1": "3",
                  "2": "168"
                },
                {
                  "0": "160",
                  "1": "1",
                  "2": "267"
                },
                {
                  "0": "102",
                  "1": "3",
                  "2": "205"
                },
                {
                  "0": "27",
                  "1": "2",
                  "2": "8"
                },
                {
                  "0": "239",
                  "1": "6",
                  "2": "401270"
                },
                {
                  "0": "256",
                  "1": "5",
                  "2": "8866"
                },
                {
                  "0": "151",
                  "1": "7",
                  "2": "140854"
                },
                {
                  "0": "51",
                  "1": "7",
                  "2": "512"
                },
                {
                  "0": "16",
                  "1": "2",
                  "2": "227"
                },
                {
                  "0": "142",
                  "1": "1",
                  "2": "375035"
                },
                {
                  "0": "249",
                  "1": "4",
                  "2": "263320"
                },
                {
                  "0": "13",
                  "1": "7",
                  "2": "117210"
                },
                {
                  "0": "147",
                  "1": "7",
                  "2": "286"
                },
                {
                  "0": "81",
                  "1": "7",
                  "2": "252"
                },
                {
                  "0": "31",
                  "1": "5",
                  "2": "48"
                },
                {
                  "0": "216",
                  "1": "6",
                  "2": "2211"
                },
                {
                  "0": "166",
                  "1": "2",
                  "2": "73325"
                },
                {
                  "0": "158",
                  "1": "3",
                  "2": "112955"
                },
                {
                  "0": "55",
                  "1": "6",
                  "2": "358"
                },
                {
                  "0": "264",
                  "1": "1",
                  "2": "208159"
                },
                {
                  "0": "146",
                  "1": "5",
                  "2": "12721"
                },
                {
                  "0": "158",
                  "1": "7",
                  "2": "194811"
                },
                {
                  "0": "215",
                  "1": "5",
                  "2": "1548"
                },
                {
                  "0": "219",
                  "1": "1",
                  "2": "1187"
                },
                {
                  "0": "165",
                  "1": "5",
                  "2": "633"
                },
                {
                  "0": "47",
                  "1": "4",
                  "2": "316"
                },
                {
                  "0": "11",
                  "1": "1",
                  "2": "143"
                },
                {
                  "0": "182",
                  "1": "7",
                  "2": "355"
                },
                {
                  "0": "244",
                  "1": "4",
                  "2": "14330"
                },
                {
                  "0": "87",
                  "1": "7",
                  "2": "108475"
                },
                {
                  "0": "224",
                  "1": "7",
                  "2": "40145"
                },
                {
                  "0": "26",
                  "1": "4",
                  "2": "886"
                },
                {
                  "0": "252",
                  "1": "1",
                  "2": "159"
                },
                {
                  "0": "96",
                  "1": "1",
                  "2": "62"
                },
                {
                  "0": "38",
                  "1": "5",
                  "2": "217"
                },
                {
                  "0": "120",
                  "1": "1",
                  "2": "94"
                },
                {
                  "0": "9",
                  "1": "1",
                  "2": "76"
                },
                {
                  "0": "244",
                  "1": "1",
                  "2": "15468"
                },
                {
                  "0": "179",
                  "1": "6",
                  "2": "8737"
                },
                {
                  "0": "234",
                  "1": "7",
                  "2": "456842"
                },
                {
                  "0": "36",
                  "1": "1",
                  "2": "3368"
                },
                {
                  "0": "181",
                  "1": "1",
                  "2": "16101"
                },
                {
                  "0": "60",
                  "1": "3",
                  "2": "177"
                },
                {
                  "0": "174",
                  "1": "5",
                  "2": "370"
                },
                {
                  "0": "149",
                  "1": "3",
                  "2": "260"
                },
                {
                  "0": "53",
                  "1": "7",
                  "2": "125"
                },
                {
                  "0": "175",
                  "1": "1",
                  "2": "100"
                },
                {
                  "0": "108",
                  "1": "7",
                  "2": "152"
                },
                {
                  "0": "228",
                  "1": "6",
                  "2": "1482"
                },
                {
                  "0": "129",
                  "1": "6",
                  "2": "7318"
                },
                {
                  "0": "41",
                  "1": "2",
                  "2": "47408"
                },
                {
                  "0": "167",
                  "1": "1",
                  "2": "583"
                },
                {
                  "0": "188",
                  "1": "1",
                  "2": "2522"
                },
                {
                  "0": "86",
                  "1": "2",
                  "2": "115"
                },
                {
                  "0": "121",
                  "1": "1",
                  "2": "324"
                },
                {
                  "0": "149",
                  "1": "7",
                  "2": "159"
                },
                {
                  "0": "140",
                  "1": "4",
                  "2": "293884"
                },
                {
                  "0": "119",
                  "1": "7",
                  "2": "734"
                },
                {
                  "0": "76",
                  "1": "7",
                  "2": "1181"
                },
                {
                  "0": "56",
                  "1": "7",
                  "2": "691"
                },
                {
                  "0": "194",
                  "1": "7",
                  "2": "984"
                },
                {
                  "0": "88",
                  "1": "2",
                  "2": "56080"
                },
                {
                  "0": "66",
                  "1": "1",
                  "2": "7137"
                },
                {
                  "0": "55",
                  "1": "4",
                  "2": "333"
                },
                {
                  "0": "155",
                  "1": "1",
                  "2": "281"
                },
                {
                  "0": "235",
                  "1": "2",
                  "2": "568"
                },
                {
                  "0": "255",
                  "1": "1",
                  "2": "24042"
                },
                {
                  "0": "112",
                  "1": "6",
                  "2": "6399"
                },
                {
                  "0": "263",
                  "1": "2",
                  "2": "241751"
                },
                {
                  "0": "207",
                  "1": "3",
                  "2": "1084"
                },
                {
                  "0": "64",
                  "1": "5",
                  "2": "115"
                },
                {
                  "0": "248",
                  "1": "2",
                  "2": "219"
                },
                {
                  "0": "238",
                  "1": "6",
                  "2": "307639"
                },
                {
                  "0": "144",
                  "1": "5",
                  "2": "139001"
                },
                {
                  "0": "113",
                  "1": "2",
                  "2": "210719"
                },
                {
                  "0": "112",
                  "1": "1",
                  "2": "7861"
                },
                {
                  "0": "203",
                  "1": "1",
                  "2": "246"
                },
                {
                  "0": "235",
                  "1": "3",
                  "2": "569"
                },
                {
                  "0": "157",
                  "1": "5",
                  "2": "659"
                },
                {
                  "0": "121",
                  "1": "2",
                  "2": "303"
                },
                {
                  "0": "111",
                  "1": "3",
                  "2": "32"
                },
                {
                  "0": "198",
                  "1": "4",
                  "2": "361"
                },
                {
                  "0": "76",
                  "1": "4",
                  "2": "1332"
                },
                {
                  "0": "256",
                  "1": "6",
                  "2": "10939"
                },
                {
                  "0": "28",
                  "1": "7",
                  "2": "1192"
                },
                {
                  "0": "189",
                  "1": "3",
                  "2": "2597"
                },
                {
                  "0": "69",
                  "1": "4",
                  "2": "933"
                },
                {
                  "0": "165",
                  "1": "2",
                  "2": "606"
                },
                {
                  "0": "61",
                  "1": "4",
                  "2": "2735"
                },
                {
                  "0": "17",
                  "1": "7",
                  "2": "3484"
                },
                {
                  "0": "239",
                  "1": "2",
                  "2": "346380"
                },
                {
                  "0": "238",
                  "1": "3",
                  "2": "295182"
                },
                {
                  "0": "218",
                  "1": "3",
                  "2": "594"
                },
                {
                  "0": "127",
                  "1": "5",
                  "2": "1215"
                },
                {
                  "0": "214",
                  "1": "2",
                  "2": "16"
                },
                {
                  "0": "96",
                  "1": "3",
                  "2": "29"
                },
                {
                  "0": "151",
                  "1": "5",
                  "2": "126702"
                },
                {
                  "0": "213",
                  "1": "7",
                  "2": "508"
                },
                {
                  "0": "35",
                  "1": "7",
                  "2": "689"
                },
                {
                  "0": "70",
                  "1": "7",
                  "2": "1867"
                },
                {
                  "0": "87",
                  "1": "1",
                  "2": "82917"
                },
                {
                  "0": "129",
                  "1": "1",
                  "2": "11077"
                },
                {
                  "0": "34",
                  "1": "7",
                  "2": "393"
                },
                {
                  "0": "180",
                  "1": "7",
                  "2": "195"
                },
                {
                  "0": "82",
                  "1": "3",
                  "2": "3241"
                },
                {
                  "0": "35",
                  "1": "4",
                  "2": "849"
                },
                {
                  "0": "149",
                  "1": "4",
                  "2": "301"
                },
                {
                  "0": "29",
                  "1": "4",
                  "2": "305"
                },
                {
                  "0": "252",
                  "1": "2",
                  "2": "177"
                },
                {
                  "0": "15",
                  "1": "1",
                  "2": "100"
                },
                {
                  "0": "232",
                  "1": "2",
                  "2": "17298"
                },
                {
                  "0": "91",
                  "1": "7",
                  "2": "629"
                },
                {
                  "0": "225",
                  "1": "2",
                  "2": "1322"
                },
                {
                  "0": "193",
                  "1": "3",
                  "2": "8544"
                },
                {
                  "0": "209",
                  "1": "5",
                  "2": "32623"
                },
                {
                  "0": "124",
                  "1": "6",
                  "2": "358"
                },
                {
                  "0": "41",
                  "1": "7",
                  "2": "70088"
                },
                {
                  "0": "41",
                  "1": "1",
                  "2": "63579"
                },
                {
                  "0": "217",
                  "1": "3",
                  "2": "1028"
                },
                {
                  "0": "62",
                  "1": "4",
                  "2": "862"
                },
                {
                  "0": "155",
                  "1": "3",
                  "2": "452"
                },
                {
                  "0": "101",
                  "1": "3",
                  "2": "246"
                },
                {
                  "0": "58",
                  "1": "3",
                  "2": "23"
                },
                {
                  "0": "238",
                  "1": "1",
                  "2": "247821"
                },
                {
                  "0": "129",
                  "1": "3",
                  "2": "6400"
                },
                {
                  "0": "23",
                  "1": "2",
                  "2": "41"
                },
                {
                  "0": "152",
                  "1": "4",
                  "2": "13421"
                },
                {
                  "0": "170",
                  "1": "5",
                  "2": "540203"
                },
                {
                  "0": "41",
                  "1": "5",
                  "2": "53362"
                },
                {
                  "0": "125",
                  "1": "6",
                  "2": "88103"
                },
                {
                  "0": "116",
                  "1": "5",
                  "2": "15989"
                },
                {
                  "0": "143",
                  "1": "7",
                  "2": "161621"
                },
                {
                  "0": "152",
                  "1": "7",
                  "2": "16250"
                },
                {
                  "0": "235",
                  "1": "7",
                  "2": "572"
                },
                {
                  "0": "92",
                  "1": "1",
                  "2": "806"
                },
                {
                  "0": "242",
                  "1": "3",
                  "2": "392"
                },
                {
                  "0": "210",
                  "1": "5",
                  "2": "450"
                },
                {
                  "0": "5",
                  "1": "7",
                  "2": "18"
                },
                {
                  "0": "164",
                  "1": "4",
                  "2": "367214"
                },
                {
                  "0": "223",
                  "1": "4",
                  "2": "6115"
                },
                {
                  "0": "15",
                  "1": "5",
                  "2": "137"
                },
                {
                  "0": "192",
                  "1": "5",
                  "2": "191"
                },
                {
                  "0": "46",
                  "1": "4",
                  "2": "38"
                },
                {
                  "0": "180",
                  "1": "2",
                  "2": "242"
                },
                {
                  "0": "153",
                  "1": "4",
                  "2": "244"
                },
                {
                  "0": "64",
                  "1": "3",
                  "2": "123"
                },
                {
                  "0": "230",
                  "1": "1",
                  "2": "442432"
                },
                {
                  "0": "170",
                  "1": "3",
                  "2": "509257"
                },
                {
                  "0": "175",
                  "1": "6",
                  "2": "163"
                },
                {
                  "0": "73",
                  "1": "1",
                  "2": "77"
                },
                {
                  "0": "137",
                  "1": "4",
                  "2": "185657"
                },
                {
                  "0": "125",
                  "1": "4",
                  "2": "88917"
                },
                {
                  "0": "112",
                  "1": "4",
                  "2": "4385"
                },
                {
                  "0": "68",
                  "1": "6",
                  "2": "357563"
                },
                {
                  "0": "238",
                  "1": "5",
                  "2": "305794"
                },
                {
                  "0": "262",
                  "1": "5",
                  "2": "188103"
                },
                {
                  "0": "246",
                  "1": "2",
                  "2": "186864"
                },
                {
                  "0": "49",
                  "1": "2",
                  "2": "3323"
                },
                {
                  "0": "209",
                  "1": "3",
                  "2": "27289"
                },
                {
                  "0": "232",
                  "1": "3",
                  "2": "17555"
                },
                {
                  "0": "157",
                  "1": "3",
                  "2": "673"
                },
                {
                  "0": "187",
                  "1": "2",
                  "2": "16"
                },
                {
                  "0": "192",
                  "1": "3",
                  "2": "240"
                },
                {
                  "0": "252",
                  "1": "7",
                  "2": "157"
                },
                {
                  "0": "32",
                  "1": "4",
                  "2": "285"
                },
                {
                  "0": "174",
                  "1": "6",
                  "2": "428"
                },
                {
                  "0": "54",
                  "1": "6",
                  "2": "623"
                },
                {
                  "0": "186",
                  "1": "2",
                  "2": "507876"
                },
                {
                  "0": "12",
                  "1": "1",
                  "2": "7399"
                },
                {
                  "0": "200",
                  "1": "3",
                  "2": "271"
                },
                {
                  "0": "194",
                  "1": "6",
                  "2": "886"
                },
                {
                  "0": "33",
                  "1": "2",
                  "2": "14054"
                },
                {
                  "0": "143",
                  "1": "3",
                  "2": "174162"
                },
                {
                  "0": "257",
                  "1": "1",
                  "2": "566"
                },
                {
                  "0": "194",
                  "1": "1",
                  "2": "1031"
                },
                {
                  "0": "177",
                  "1": "5",
                  "2": "595"
                },
                {
                  "0": "15",
                  "1": "6",
                  "2": "145"
                },
                {
                  "0": "111",
                  "1": "1",
                  "2": "41"
                },
                {
                  "0": "242",
                  "1": "1",
                  "2": "254"
                },
                {
                  "0": "250",
                  "1": "3",
                  "2": "284"
                },
                {
                  "0": "171",
                  "1": "5",
                  "2": "248"
                },
                {
                  "0": "221",
                  "1": "4",
                  "2": "35"
                },
                {
                  "0": "229",
                  "1": "6",
                  "2": "303844"
                },
                {
                  "0": "255",
                  "1": "5",
                  "2": "11450"
                },
                {
                  "0": "100",
                  "1": "7",
                  "2": "272629"
                },
                {
                  "0": "169",
                  "1": "4",
                  "2": "387"
                },
                {
                  "0": "146",
                  "1": "3",
                  "2": "12455"
                },
                {
                  "0": "136",
                  "1": "4",
                  "2": "328"
                },
                {
                  "0": "14",
                  "1": "3",
                  "2": "1131"
                },
                {
                  "0": "83",
                  "1": "1",
                  "2": "2083"
                },
                {
                  "0": "133",
                  "1": "2",
                  "2": "645"
                },
                {
                  "0": "177",
                  "1": "1",
                  "2": "801"
                },
                {
                  "0": "38",
                  "1": "3",
                  "2": "208"
                },
                {
                  "0": "34",
                  "1": "4",
                  "2": "329"
                },
                {
                  "0": "183",
                  "1": "1",
                  "2": "94"
                },
                {
                  "0": "186",
                  "1": "1",
                  "2": "477267"
                },
                {
                  "0": "16",
                  "1": "4",
                  "2": "252"
                },
                {
                  "0": "10",
                  "1": "5",
                  "2": "4721"
                },
                {
                  "0": "90",
                  "1": "2",
                  "2": "229509"
                },
                {
                  "0": "137",
                  "1": "3",
                  "2": "179548"
                },
                {
                  "0": "98",
                  "1": "3",
                  "2": "188"
                },
                {
                  "0": "54",
                  "1": "5",
                  "2": "607"
                },
                {
                  "0": "197",
                  "1": "3",
                  "2": "853"
                },
                {
                  "0": "120",
                  "1": "6",
                  "2": "75"
                },
                {
                  "0": "102",
                  "1": "2",
                  "2": "197"
                },
                {
                  "0": "50",
                  "1": "4",
                  "2": "131000"
                },
                {
                  "0": "100",
                  "1": "5",
                  "2": "330815"
                },
                {
                  "0": "233",
                  "1": "5",
                  "2": "219401"
                },
                {
                  "0": "89",
                  "1": "7",
                  "2": "1838"
                },
                {
                  "0": "1",
                  "1": "1",
                  "2": "1413"
                },
                {
                  "0": "74",
                  "1": "3",
                  "2": "50092"
                },
                {
                  "0": "230",
                  "1": "3",
                  "2": "523328"
                },
                {
                  "0": "89",
                  "1": "3",
                  "2": "1732"
                },
                {
                  "0": "168",
                  "1": "1",
                  "2": "3151"
                },
                {
                  "0": "240",
                  "1": "5",
                  "2": "70"
                },
                {
                  "0": "218",
                  "1": "4",
                  "2": "611"
                },
                {
                  "0": "142",
                  "1": "6",
                  "2": "464786"
                },
                {
                  "0": "162",
                  "1": "5",
                  "2": "605326"
                },
                {
                  "0": "114",
                  "1": "5",
                  "2": "176832"
                },
                {
                  "0": "6",
                  "1": "5",
                  "2": "65"
                },
                {
                  "0": "74",
                  "1": "2",
                  "2": "50884"
                },
                {
                  "0": "60",
                  "1": "2",
                  "2": "154"
                },
                {
                  "0": "247",
                  "1": "3",
                  "2": "2036"
                },
                {
                  "0": "28",
                  "1": "4",
                  "2": "1190"
                },
                {
                  "0": "194",
                  "1": "5",
                  "2": "819"
                },
                {
                  "0": "134",
                  "1": "1",
                  "2": "794"
                },
                {
                  "0": "203",
                  "1": "5",
                  "2": "278"
                },
                {
                  "0": "248",
                  "1": "6",
                  "2": "229"
                },
                {
                  "0": "200",
                  "1": "7",
                  "2": "185"
                },
                {
                  "0": "105",
                  "1": "7",
                  "2": "24"
                },
                {
                  "0": "9",
                  "1": "7",
                  "2": "132"
                },
                {
                  "0": "243",
                  "1": "6",
                  "2": "3156"
                },
                {
                  "0": "28",
                  "1": "1",
                  "2": "1268"
                },
                {
                  "0": "242",
                  "1": "2",
                  "2": "434"
                },
                {
                  "0": "177",
                  "1": "6",
                  "2": "712"
                },
                {
                  "0": "1",
                  "1": "3",
                  "2": "923"
                },
                {
                  "0": "84",
                  "1": "7",
                  "2": "10"
                },
                {
                  "0": "250",
                  "1": "7",
                  "2": "294"
                },
                {
                  "0": "200",
                  "1": "6",
                  "2": "266"
                },
                {
                  "0": "100",
                  "1": "4",
                  "2": "329537"
                },
                {
                  "0": "79",
                  "1": "5",
                  "2": "348967"
                },
                {
                  "0": "88",
                  "1": "5",
                  "2": "69222"
                },
                {
                  "0": "45",
                  "1": "5",
                  "2": "33298"
                },
                {
                  "0": "232",
                  "1": "6",
                  "2": "25388"
                },
                {
                  "0": "132",
                  "1": "7",
                  "2": "332151"
                },
                {
                  "0": "80",
                  "1": "2",
                  "2": "3837"
                },
                {
                  "0": "79",
                  "1": "3",
                  "2": "288829"
                },
                {
                  "0": "26",
                  "1": "1",
                  "2": "617"
                },
                {
                  "0": "185",
                  "1": "6",
                  "2": "259"
                },
                {
                  "0": "160",
                  "1": "3",
                  "2": "240"
                },
                {
                  "0": "135",
                  "1": "7",
                  "2": "471"
                },
                {
                  "0": "202",
                  "1": "4",
                  "2": "496"
                },
                {
                  "0": "231",
                  "1": "5",
                  "2": "284486"
                },
                {
                  "0": "158",
                  "1": "5",
                  "2": "136561"
                },
                {
                  "0": "207",
                  "1": "6",
                  "2": "1077"
                },
                {
                  "0": "93",
                  "1": "7",
                  "2": "1946"
                },
                {
                  "0": "76",
                  "1": "3",
                  "2": "1289"
                },
                {
                  "0": "20",
                  "1": "3",
                  "2": "136"
                },
                {
                  "0": "122",
                  "1": "2",
                  "2": "125"
                },
                {
                  "0": "172",
                  "1": "5",
                  "2": "10"
                },
                {
                  "0": "187",
                  "1": "3",
                  "2": "18"
                },
                {
                  "0": "99",
                  "1": "5",
                  "2": "3"
                },
                {
                  "0": "42",
                  "1": "4",
                  "2": "22489"
                },
                {
                  "0": "188",
                  "1": "7",
                  "2": "2417"
                },
                {
                  "0": "42",
                  "1": "2",
                  "2": "21885"
                },
                {
                  "0": "229",
                  "1": "3",
                  "2": "293345"
                },
                {
                  "0": "11",
                  "1": "4",
                  "2": "203"
                },
                {
                  "0": "77",
                  "1": "1",
                  "2": "401"
                },
                {
                  "0": "31",
                  "1": "1",
                  "2": "88"
                },
                {
                  "0": "172",
                  "1": "6",
                  "2": "12"
                },
                {
                  "0": "136",
                  "1": "1",
                  "2": "367"
                },
                {
                  "0": "86",
                  "1": "6",
                  "2": "119"
                },
                {
                  "0": "53",
                  "1": "6",
                  "2": "159"
                },
                {
                  "0": "172",
                  "1": "2",
                  "2": "10"
                },
                {
                  "0": "246",
                  "1": "7",
                  "2": "225804"
                },
                {
                  "0": "97",
                  "1": "2",
                  "2": "10576"
                },
                {
                  "0": "216",
                  "1": "1",
                  "2": "1944"
                },
                {
                  "0": "89",
                  "1": "1",
                  "2": "1926"
                },
                {
                  "0": "89",
                  "1": "6",
                  "2": "1938"
                },
                {
                  "0": "198",
                  "1": "1",
                  "2": "744"
                },
                {
                  "0": "144",
                  "1": "4",
                  "2": "129717"
                },
                {
                  "0": "222",
                  "1": "4",
                  "2": "317"
                },
                {
                  "0": "107",
                  "1": "5",
                  "2": "378983"
                },
                {
                  "0": "137",
                  "1": "7",
                  "2": "194115"
                },
                {
                  "0": "195",
                  "1": "1",
                  "2": "1247"
                },
                {
                  "0": "176",
                  "1": "5",
                  "2": "11"
                },
                {
                  "0": "94",
                  "1": "2",
                  "2": "145"
                },
                {
                  "0": "214",
                  "1": "4",
                  "2": "19"
                },
                {
                  "0": "49",
                  "1": "5",
                  "2": "4159"
                },
                {
                  "0": "24",
                  "1": "1",
                  "2": "41994"
                },
                {
                  "0": "43",
                  "1": "3",
                  "2": "219591"
                },
                {
                  "0": "264",
                  "1": "3",
                  "2": "229439"
                },
                {
                  "0": "70",
                  "1": "5",
                  "2": "2132"
                },
                {
                  "0": "69",
                  "1": "6",
                  "2": "1111"
                },
                {
                  "0": "32",
                  "1": "6",
                  "2": "279"
                },
                {
                  "0": "240",
                  "1": "2",
                  "2": "38"
                },
                {
                  "0": "47",
                  "1": "5",
                  "2": "348"
                },
                {
                  "0": "149",
                  "1": "1",
                  "2": "162"
                },
                {
                  "0": "158",
                  "1": "4",
                  "2": "126153"
                },
                {
                  "0": "257",
                  "1": "4",
                  "2": "620"
                },
                {
                  "0": "235",
                  "1": "5",
                  "2": "658"
                },
                {
                  "0": "10",
                  "1": "6",
                  "2": "5030"
                },
                {
                  "0": "239",
                  "1": "7",
                  "2": "401999"
                },
                {
                  "0": "247",
                  "1": "7",
                  "2": "2652"
                },
                {
                  "0": "248",
                  "1": "7",
                  "2": "227"
                },
                {
                  "0": "92",
                  "1": "6",
                  "2": "747"
                },
                {
                  "0": "39",
                  "1": "2",
                  "2": "849"
                },
                {
                  "0": "72",
                  "1": "3",
                  "2": "634"
                },
                {
                  "0": "197",
                  "1": "1",
                  "2": "709"
                },
                {
                  "0": "180",
                  "1": "4",
                  "2": "200"
                },
                {
                  "0": "19",
                  "1": "1",
                  "2": "199"
                },
                {
                  "0": "46",
                  "1": "5",
                  "2": "33"
                },
                {
                  "0": "105",
                  "1": "4",
                  "2": "25"
                },
                {
                  "0": "193",
                  "1": "4",
                  "2": "8971"
                },
                {
                  "0": "40",
                  "1": "5",
                  "2": "8610"
                },
                {
                  "0": "95",
                  "1": "2",
                  "2": "2189"
                },
                {
                  "0": "151",
                  "1": "1",
                  "2": "126445"
                },
                {
                  "0": "265",
                  "1": "2",
                  "2": "6595"
                },
                {
                  "0": "254",
                  "1": "7",
                  "2": "443"
                },
                {
                  "0": "78",
                  "1": "4",
                  "2": "320"
                },
                {
                  "0": "3",
                  "1": "5",
                  "2": "186"
                },
                {
                  "0": "54",
                  "1": "2",
                  "2": "516"
                },
                {
                  "0": "21",
                  "1": "5",
                  "2": "385"
                },
                {
                  "0": "11",
                  "1": "7",
                  "2": "122"
                },
                {
                  "0": "239",
                  "1": "1",
                  "2": "355310"
                },
                {
                  "0": "170",
                  "1": "6",
                  "2": "516161"
                },
                {
                  "0": "13",
                  "1": "5",
                  "2": "150082"
                },
                {
                  "0": "113",
                  "1": "3",
                  "2": "232330"
                },
                {
                  "0": "178",
                  "1": "3",
                  "2": "270"
                },
                {
                  "0": "135",
                  "1": "5",
                  "2": "636"
                },
                {
                  "0": "102",
                  "1": "1",
                  "2": "213"
                },
                {
                  "0": "212",
                  "1": "6",
                  "2": "310"
                },
                {
                  "0": "42",
                  "1": "5",
                  "2": "24345"
                },
                {
                  "0": "74",
                  "1": "1",
                  "2": "62682"
                },
                {
                  "0": "216",
                  "1": "2",
                  "2": "1903"
                },
                {
                  "0": "81",
                  "1": "4",
                  "2": "260"
                },
                {
                  "0": "222",
                  "1": "2",
                  "2": "269"
                },
                {
                  "0": "126",
                  "1": "5",
                  "2": "242"
                },
                {
                  "0": "60",
                  "1": "5",
                  "2": "189"
                },
                {
                  "0": "15",
                  "1": "2",
                  "2": "141"
                },
                {
                  "0": "209",
                  "1": "1",
                  "2": "26683"
                },
                {
                  "0": "168",
                  "1": "6",
                  "2": "3237"
                },
                {
                  "0": "94",
                  "1": "3",
                  "2": "149"
                },
                {
                  "0": "169",
                  "1": "5",
                  "2": "365"
                },
                {
                  "0": "259",
                  "1": "5",
                  "2": "282"
                },
                {
                  "0": "178",
                  "1": "1",
                  "2": "201"
                },
                {
                  "0": "131",
                  "1": "5",
                  "2": "325"
                },
                {
                  "0": "169",
                  "1": "3",
                  "2": "377"
                },
                {
                  "0": "63",
                  "1": "5",
                  "2": "246"
                },
                {
                  "0": "2",
                  "1": "5",
                  "2": "11"
                },
                {
                  "0": "234",
                  "1": "4",
                  "2": "498196"
                },
                {
                  "0": "161",
                  "1": "1",
                  "2": "352337"
                },
                {
                  "0": "205",
                  "1": "6",
                  "2": "595"
                },
                {
                  "0": "190",
                  "1": "7",
                  "2": "1160"
                },
                {
                  "0": "52",
                  "1": "2",
                  "2": "7819"
                },
                {
                  "0": "127",
                  "1": "4",
                  "2": "1100"
                },
                {
                  "0": "131",
                  "1": "1",
                  "2": "266"
                },
                {
                  "0": "21",
                  "1": "6",
                  "2": "354"
                },
                {
                  "0": "121",
                  "1": "7",
                  "2": "288"
                },
                {
                  "0": "75",
                  "1": "5",
                  "2": "108754"
                },
                {
                  "0": "129",
                  "1": "2",
                  "2": "7904"
                },
                {
                  "0": "159",
                  "1": "4",
                  "2": "913"
                },
                {
                  "0": "37",
                  "1": "5",
                  "2": "2150"
                },
                {
                  "0": "122",
                  "1": "1",
                  "2": "143"
                },
                {
                  "0": "53",
                  "1": "4",
                  "2": "133"
                },
                {
                  "0": "261",
                  "1": "7",
                  "2": "102514"
                },
                {
                  "0": "229",
                  "1": "1",
                  "2": "213935"
                },
                {
                  "0": "233",
                  "1": "2",
                  "2": "187095"
                },
                {
                  "0": "7",
                  "1": "2",
                  "2": "21091"
                },
                {
                  "0": "61",
                  "1": "2",
                  "2": "2591"
                },
                {
                  "0": "219",
                  "1": "2",
                  "2": "1443"
                },
                {
                  "0": "126",
                  "1": "4",
                  "2": "268"
                },
                {
                  "0": "260",
                  "1": "1",
                  "2": "9699"
                },
                {
                  "0": "17",
                  "1": "6",
                  "2": "2937"
                },
                {
                  "0": "198",
                  "1": "2",
                  "2": "450"
                },
                {
                  "0": "150",
                  "1": "5",
                  "2": "166"
                },
                {
                  "0": "57",
                  "1": "3",
                  "2": "43"
                },
                {
                  "0": "81",
                  "1": "5",
                  "2": "243"
                },
                {
                  "0": "60",
                  "1": "1",
                  "2": "235"
                },
                {
                  "0": "100",
                  "1": "1",
                  "2": "239891"
                },
                {
                  "0": "108",
                  "1": "4",
                  "2": "202"
                },
                {
                  "0": "37",
                  "1": "4",
                  "2": "1925"
                },
                {
                  "0": "33",
                  "1": "5",
                  "2": "17987"
                },
                {
                  "0": "48",
                  "1": "7",
                  "2": "515680"
                },
                {
                  "0": "36",
                  "1": "3",
                  "2": "631"
                },
                {
                  "0": "159",
                  "1": "5",
                  "2": "895"
                },
                {
                  "0": "241",
                  "1": "2",
                  "2": "260"
                },
                {
                  "0": "60",
                  "1": "4",
                  "2": "156"
                },
                {
                  "0": "214",
                  "1": "1",
                  "2": "14"
                },
                {
                  "0": "1",
                  "1": "4",
                  "2": "986"
                },
                {
                  "0": "138",
                  "1": "5",
                  "2": "447625"
                },
                {
                  "0": "226",
                  "1": "7",
                  "2": "27167"
                },
                {
                  "0": "196",
                  "1": "7",
                  "2": "1277"
                },
                {
                  "0": "221",
                  "1": "7",
                  "2": "26"
                },
                {
                  "0": "14",
                  "1": "2",
                  "2": "990"
                },
                {
                  "0": "262",
                  "1": "1",
                  "2": "131853"
                },
                {
                  "0": "139",
                  "1": "3",
                  "2": "209"
                },
                {
                  "0": "67",
                  "1": "2",
                  "2": "205"
                },
                {
                  "0": "161",
                  "1": "6",
                  "2": "594595"
                },
                {
                  "0": "78",
                  "1": "6",
                  "2": "348"
                },
                {
                  "0": "41",
                  "1": "6",
                  "2": "63826"
                },
                {
                  "0": "64",
                  "1": "6",
                  "2": "130"
                },
                {
                  "0": "127",
                  "1": "6",
                  "2": "1542"
                },
                {
                  "0": "193",
                  "1": "7",
                  "2": "8865"
                },
                {
                  "0": "146",
                  "1": "2",
                  "2": "12743"
                },
                {
                  "0": "131",
                  "1": "3",
                  "2": "293"
                },
                {
                  "0": "73",
                  "1": "5",
                  "2": "67"
                },
                {
                  "0": "200",
                  "1": "1",
                  "2": "257"
                },
                {
                  "0": "207",
                  "1": "7",
                  "2": "148"
                },
                {
                  "0": "5",
                  "1": "4",
                  "2": "22"
                },
                {
                  "0": "66",
                  "1": "6",
                  "2": "9062"
                },
                {
                  "0": "217",
                  "1": "5",
                  "2": "1113"
                },
                {
                  "0": "12",
                  "1": "5",
                  "2": "5856"
                },
                {
                  "0": "223",
                  "1": "7",
                  "2": "8550"
                },
                {
                  "0": "165",
                  "1": "7",
                  "2": "365"
                },
                {
                  "0": "150",
                  "1": "2",
                  "2": "162"
                },
                {
                  "0": "94",
                  "1": "1",
                  "2": "175"
                },
                {
                  "0": "54",
                  "1": "1",
                  "2": "513"
                },
                {
                  "0": "126",
                  "1": "6",
                  "2": "271"
                },
                {
                  "0": "125",
                  "1": "1",
                  "2": "73061"
                },
                {
                  "0": "262",
                  "1": "4",
                  "2": "183098"
                },
                {
                  "0": "191",
                  "1": "4",
                  "2": "437"
                },
                {
                  "0": "90",
                  "1": "5",
                  "2": "270733"
                },
                {
                  "0": "24",
                  "1": "5",
                  "2": "43845"
                },
                {
                  "0": "211",
                  "1": "2",
                  "2": "97368"
                },
                {
                  "0": "145",
                  "1": "3",
                  "2": "16637"
                },
                {
                  "0": "40",
                  "1": "3",
                  "2": "7401"
                },
                {
                  "0": "173",
                  "1": "6",
                  "2": "417"
                },
                {
                  "0": "164",
                  "1": "6",
                  "2": "376634"
                },
                {
                  "0": "137",
                  "1": "1",
                  "2": "156393"
                },
                {
                  "0": "56",
                  "1": "5",
                  "2": "607"
                },
                {
                  "0": "230",
                  "1": "7",
                  "2": "479657"
                },
                {
                  "0": "264",
                  "1": "7",
                  "2": "232507"
                },
                {
                  "0": "90",
                  "1": "1",
                  "2": "248707"
                },
                {
                  "0": "168",
                  "1": "2",
                  "2": "2833"
                },
                {
                  "0": "21",
                  "1": "3",
                  "2": "313"
                },
                {
                  "0": "195",
                  "1": "5",
                  "2": "877"
                },
                {
                  "0": "23",
                  "1": "3",
                  "2": "35"
                },
                {
                  "0": "73",
                  "1": "6",
                  "2": "55"
                },
                {
                  "0": "78",
                  "1": "5",
                  "2": "333"
                },
                {
                  "0": "118",
                  "1": "7",
                  "2": "24"
                },
                {
                  "0": "148",
                  "1": "1",
                  "2": "317779"
                },
                {
                  "0": "243",
                  "1": "5",
                  "2": "2703"
                },
                {
                  "0": "68",
                  "1": "2",
                  "2": "296790"
                },
                {
                  "0": "54",
                  "1": "7",
                  "2": "572"
                },
                {
                  "0": "80",
                  "1": "1",
                  "2": "10667"
                },
                {
                  "0": "152",
                  "1": "3",
                  "2": "13181"
                },
                {
                  "0": "216",
                  "1": "7",
                  "2": "1511"
                },
                {
                  "0": "187",
                  "1": "6",
                  "2": "16"
                },
                {
                  "0": "121",
                  "1": "6",
                  "2": "333"
                },
                {
                  "0": "86",
                  "1": "4",
                  "2": "124"
                },
                {
                  "0": "195",
                  "1": "6",
                  "2": "1018"
                },
                {
                  "0": "151",
                  "1": "4",
                  "2": "125041"
                },
                {
                  "0": "166",
                  "1": "4",
                  "2": "79342"
                },
                {
                  "0": "240",
                  "1": "4",
                  "2": "71"
                },
                {
                  "0": "28",
                  "1": "5",
                  "2": "1227"
                },
                {
                  "0": "236",
                  "1": "7",
                  "2": "461535"
                },
                {
                  "0": "260",
                  "1": "2",
                  "2": "7757"
                },
                {
                  "0": "61",
                  "1": "3",
                  "2": "2481"
                },
                {
                  "0": "227",
                  "1": "4",
                  "2": "368"
                },
                {
                  "0": "70",
                  "1": "3",
                  "2": "1950"
                },
                {
                  "0": "179",
                  "1": "5",
                  "2": "7780"
                },
                {
                  "0": "14",
                  "1": "4",
                  "2": "1156"
                },
                {
                  "0": "233",
                  "1": "7",
                  "2": "168594"
                },
                {
                  "0": "242",
                  "1": "5",
                  "2": "459"
                },
                {
                  "0": "21",
                  "1": "2",
                  "2": "335"
                },
                {
                  "0": "195",
                  "1": "7",
                  "2": "1367"
                },
                {
                  "0": "63",
                  "1": "7",
                  "2": "252"
                },
                {
                  "0": "183",
                  "1": "7",
                  "2": "88"
                },
                {
                  "0": "206",
                  "1": "5",
                  "2": "34"
                },
                {
                  "0": "10",
                  "1": "4",
                  "2": "4592"
                },
                {
                  "0": "247",
                  "1": "4",
                  "2": "1945"
                },
                {
                  "0": "206",
                  "1": "4",
                  "2": "34"
                },
                {
                  "0": "234",
                  "1": "6",
                  "2": "489636"
                },
                {
                  "0": "215",
                  "1": "6",
                  "2": "1635"
                },
                {
                  "0": "25",
                  "1": "2",
                  "2": "12210"
                },
                {
                  "0": "83",
                  "1": "3",
                  "2": "1313"
                },
                {
                  "0": "51",
                  "1": "5",
                  "2": "589"
                },
                {
                  "0": "135",
                  "1": "4",
                  "2": "654"
                },
                {
                  "0": "215",
                  "1": "2",
                  "2": "1622"
                },
                {
                  "0": "178",
                  "1": "7",
                  "2": "228"
                },
                {
                  "0": "132",
                  "1": "4",
                  "2": "341239"
                },
                {
                  "0": "143",
                  "1": "4",
                  "2": "176168"
                },
                {
                  "0": "19",
                  "1": "4",
                  "2": "298"
                },
                {
                  "0": "11",
                  "1": "5",
                  "2": "216"
                },
                {
                  "0": "241",
                  "1": "6",
                  "2": "323"
                },
                {
                  "0": "10",
                  "1": "1",
                  "2": "4620"
                },
                {
                  "0": "7",
                  "1": "3",
                  "2": "19118"
                },
                {
                  "0": "85",
                  "1": "6",
                  "2": "574"
                },
                {
                  "0": "63",
                  "1": "2",
                  "2": "235"
                },
                {
                  "0": "213",
                  "1": "6",
                  "2": "619"
                },
                {
                  "0": "53",
                  "1": "1",
                  "2": "152"
                },
                {
                  "0": "65",
                  "1": "1",
                  "2": "17465"
                },
                {
                  "0": "132",
                  "1": "6",
                  "2": "369008"
                },
                {
                  "0": "218",
                  "1": "6",
                  "2": "658"
                },
                {
                  "0": "236",
                  "1": "1",
                  "2": "374778"
                },
                {
                  "0": "91",
                  "1": "2",
                  "2": "678"
                },
                {
                  "0": "78",
                  "1": "3",
                  "2": "316"
                },
                {
                  "0": "38",
                  "1": "4",
                  "2": "196"
                },
                {
                  "0": "3",
                  "1": "3",
                  "2": "155"
                },
                {
                  "0": "77",
                  "1": "2",
                  "2": "285"
                },
                {
                  "0": "23",
                  "1": "5",
                  "2": "68"
                },
                {
                  "0": "123",
                  "1": "3",
                  "2": "503"
                },
                {
                  "0": "15",
                  "1": "7",
                  "2": "115"
                },
                {
                  "0": "249",
                  "1": "1",
                  "2": "314251"
                },
                {
                  "0": "158",
                  "1": "6",
                  "2": "155772"
                },
                {
                  "0": "80",
                  "1": "7",
                  "2": "10139"
                },
                {
                  "0": "36",
                  "1": "2",
                  "2": "937"
                },
                {
                  "0": "198",
                  "1": "3",
                  "2": "380"
                },
                {
                  "0": "76",
                  "1": "1",
                  "2": "1618"
                },
                {
                  "0": "235",
                  "1": "6",
                  "2": "669"
                },
                {
                  "0": "47",
                  "1": "1",
                  "2": "416"
                },
                {
                  "0": "96",
                  "1": "4",
                  "2": "33"
                },
                {
                  "0": "9",
                  "1": "3",
                  "2": "119"
                },
                {
                  "0": "118",
                  "1": "2",
                  "2": "24"
                },
                {
                  "0": "88",
                  "1": "6",
                  "2": "64620"
                },
                {
                  "0": "185",
                  "1": "7",
                  "2": "204"
                },
                {
                  "0": "125",
                  "1": "7",
                  "2": "87340"
                },
                {
                  "0": "123",
                  "1": "4",
                  "2": "623"
                },
                {
                  "0": "227",
                  "1": "1",
                  "2": "293"
                },
                {
                  "0": "228",
                  "1": "2",
                  "2": "1218"
                },
                {
                  "0": "221",
                  "1": "2",
                  "2": "30"
                },
                {
                  "0": "145",
                  "1": "7",
                  "2": "19829"
                },
                {
                  "0": "25",
                  "1": "7",
                  "2": "17816"
                },
                {
                  "0": "65",
                  "1": "2",
                  "2": "16957"
                },
                {
                  "0": "21",
                  "1": "4",
                  "2": "357"
                },
                {
                  "0": "123",
                  "1": "1",
                  "2": "271"
                },
                {
                  "0": "9",
                  "1": "2",
                  "2": "131"
                },
                {
                  "0": "254",
                  "1": "3",
                  "2": "501"
                },
                {
                  "0": "227",
                  "1": "5",
                  "2": "397"
                },
                {
                  "0": "263",
                  "1": "6",
                  "2": "299602"
                },
                {
                  "0": "189",
                  "1": "5",
                  "2": "3079"
                },
                {
                  "0": "265",
                  "1": "6",
                  "2": "7575"
                },
                {
                  "0": "108",
                  "1": "6",
                  "2": "236"
                },
                {
                  "0": "45",
                  "1": "1",
                  "2": "32476"
                },
                {
                  "0": "93",
                  "1": "4",
                  "2": "2025"
                },
                {
                  "0": "36",
                  "1": "4",
                  "2": "839"
                },
                {
                  "0": "128",
                  "1": "7",
                  "2": "84"
                },
                {
                  "0": "55",
                  "1": "5",
                  "2": "307"
                },
                {
                  "0": "66",
                  "1": "5",
                  "2": "8697"
                },
                {
                  "0": "24",
                  "1": "2",
                  "2": "38484"
                },
                {
                  "0": "223",
                  "1": "1",
                  "2": "8289"
                },
                {
                  "0": "50",
                  "1": "3",
                  "2": "126368"
                },
                {
                  "0": "88",
                  "1": "3",
                  "2": "63140"
                },
                {
                  "0": "25",
                  "1": "3",
                  "2": "13189"
                },
                {
                  "0": "54",
                  "1": "3",
                  "2": "521"
                },
                {
                  "0": "71",
                  "1": "2",
                  "2": "589"
                },
                {
                  "0": "227",
                  "1": "2",
                  "2": "346"
                },
                {
                  "0": "150",
                  "1": "1",
                  "2": "120"
                },
                {
                  "0": "46",
                  "1": "2",
                  "2": "25"
                },
                {
                  "0": "73",
                  "1": "2",
                  "2": "63"
                },
                {
                  "0": "146",
                  "1": "4",
                  "2": "12582"
                },
                {
                  "0": "74",
                  "1": "7",
                  "2": "69922"
                },
                {
                  "0": "62",
                  "1": "7",
                  "2": "988"
                },
                {
                  "0": "139",
                  "1": "6",
                  "2": "298"
                },
                {
                  "0": "259",
                  "1": "1",
                  "2": "315"
                },
                {
                  "0": "94",
                  "1": "7",
                  "2": "178"
                },
                {
                  "0": "16",
                  "1": "7",
                  "2": "201"
                },
                {
                  "0": "180",
                  "1": "1",
                  "2": "193"
                },
                {
                  "0": "106",
                  "1": "7",
                  "2": "3026"
                },
                {
                  "0": "91",
                  "1": "1",
                  "2": "689"
                },
                {
                  "0": "59",
                  "1": "4",
                  "2": "20"
                },
                {
                  "0": "84",
                  "1": "5",
                  "2": "6"
                },
                {
                  "0": "120",
                  "1": "5",
                  "2": "71"
                },
                {
                  "0": "75",
                  "1": "4",
                  "2": "106240"
                },
                {
                  "0": "244",
                  "1": "5",
                  "2": "15304"
                },
                {
                  "0": "135",
                  "1": "3",
                  "2": "549"
                },
                {
                  "0": "72",
                  "1": "6",
                  "2": "719"
                },
                {
                  "0": "69",
                  "1": "5",
                  "2": "945"
                },
                {
                  "0": "8",
                  "1": "5",
                  "2": "147"
                },
                {
                  "0": "122",
                  "1": "3",
                  "2": "135"
                },
                {
                  "0": "263",
                  "1": "4",
                  "2": "264173"
                },
                {
                  "0": "255",
                  "1": "6",
                  "2": "14396"
                },
                {
                  "0": "139",
                  "1": "7",
                  "2": "152"
                },
                {
                  "0": "161",
                  "1": "2",
                  "2": "604979"
                },
                {
                  "0": "82",
                  "1": "2",
                  "2": "4074"
                },
                {
                  "0": "138",
                  "1": "3",
                  "2": "445515"
                },
                {
                  "0": "241",
                  "1": "3",
                  "2": "290"
                },
                {
                  "0": "67",
                  "1": "6",
                  "2": "251"
                },
                {
                  "0": "117",
                  "1": "3",
                  "2": "74"
                },
                {
                  "0": "75",
                  "1": "6",
                  "2": "116703"
                },
                {
                  "0": "82",
                  "1": "5",
                  "2": "3301"
                },
                {
                  "0": "198",
                  "1": "5",
                  "2": "431"
                },
                {
                  "0": "179",
                  "1": "1",
                  "2": "9358"
                },
                {
                  "0": "151",
                  "1": "3",
                  "2": "123471"
                },
                {
                  "0": "122",
                  "1": "4",
                  "2": "122"
                },
                {
                  "0": "77",
                  "1": "4",
                  "2": "323"
                },
                {
                  "0": "64",
                  "1": "7",
                  "2": "76"
                },
                {
                  "0": "132",
                  "1": "1",
                  "2": "393216"
                },
                {
                  "0": "167",
                  "1": "7",
                  "2": "489"
                },
                {
                  "0": "247",
                  "1": "2",
                  "2": "1758"
                },
                {
                  "0": "97",
                  "1": "3",
                  "2": "11503"
                },
                {
                  "0": "124",
                  "1": "2",
                  "2": "280"
                },
                {
                  "0": "101",
                  "1": "2",
                  "2": "208"
                },
                {
                  "0": "149",
                  "1": "2",
                  "2": "274"
                },
                {
                  "0": "58",
                  "1": "6",
                  "2": "27"
                },
                {
                  "0": "32",
                  "1": "5",
                  "2": "296"
                },
                {
                  "0": "258",
                  "1": "3",
                  "2": "292"
                },
                {
                  "0": "173",
                  "1": "5",
                  "2": "352"
                },
                {
                  "0": "8",
                  "1": "1",
                  "2": "193"
                },
                {
                  "0": "115",
                  "1": "3",
                  "2": "14"
                },
                {
                  "0": "79",
                  "1": "6",
                  "2": "422151"
                },
                {
                  "0": "193",
                  "1": "5",
                  "2": "8971"
                },
                {
                  "0": "220",
                  "1": "2",
                  "2": "439"
                },
                {
                  "0": "240",
                  "1": "7",
                  "2": "68"
                },
                {
                  "0": "262",
                  "1": "3",
                  "2": "180011"
                },
                {
                  "0": "91",
                  "1": "3",
                  "2": "686"
                },
                {
                  "0": "254",
                  "1": "1",
                  "2": "500"
                },
                {
                  "0": "119",
                  "1": "2",
                  "2": "620"
                },
                {
                  "0": "257",
                  "1": "6",
                  "2": "600"
                },
                {
                  "0": "243",
                  "1": "4",
                  "2": "2398"
                },
                {
                  "0": "95",
                  "1": "4",
                  "2": "2401"
                },
                {
                  "0": "168",
                  "1": "7",
                  "2": "3464"
                },
                {
                  "0": "163",
                  "1": "3",
                  "2": "420121"
                },
                {
                  "0": "116",
                  "1": "3",
                  "2": "14590"
                },
                {
                  "0": "29",
                  "1": "5",
                  "2": "259"
                },
                {
                  "0": "13",
                  "1": "4",
                  "2": "146324"
                },
                {
                  "0": "79",
                  "1": "4",
                  "2": "317479"
                },
                {
                  "0": "70",
                  "1": "6",
                  "2": "2127"
                },
                {
                  "0": "87",
                  "1": "6",
                  "2": "123043"
                },
                {
                  "0": "26",
                  "1": "5",
                  "2": "921"
                },
                {
                  "0": "76",
                  "1": "5",
                  "2": "1414"
                },
                {
                  "0": "244",
                  "1": "2",
                  "2": "13788"
                },
                {
                  "0": "148",
                  "1": "3",
                  "2": "108871"
                },
                {
                  "0": "62",
                  "1": "3",
                  "2": "845"
                },
                {
                  "0": "108",
                  "1": "5",
                  "2": "173"
                },
                {
                  "0": "92",
                  "1": "4",
                  "2": "657"
                },
                {
                  "0": "50",
                  "1": "6",
                  "2": "142333"
                },
                {
                  "0": "236",
                  "1": "5",
                  "2": "625572"
                },
                {
                  "0": "219",
                  "1": "5",
                  "2": "1362"
                },
                {
                  "0": "129",
                  "1": "5",
                  "2": "6526"
                },
                {
                  "0": "238",
                  "1": "7",
                  "2": "276225"
                },
                {
                  "0": "76",
                  "1": "6",
                  "2": "1539"
                },
                {
                  "0": "154",
                  "1": "1",
                  "2": "44"
                },
                {
                  "0": "180",
                  "1": "6",
                  "2": "259"
                },
                {
                  "0": "228",
                  "1": "1",
                  "2": "1518"
                },
                {
                  "0": "208",
                  "1": "1",
                  "2": "264"
                },
                {
                  "0": "257",
                  "1": "7",
                  "2": "660"
                },
                {
                  "0": "201",
                  "1": "4",
                  "2": "37"
                },
                {
                  "0": "150",
                  "1": "6",
                  "2": "159"
                },
                {
                  "0": "45",
                  "1": "6",
                  "2": "35425"
                },
                {
                  "0": "256",
                  "1": "7",
                  "2": "19673"
                },
                {
                  "0": "83",
                  "1": "7",
                  "2": "2081"
                },
                {
                  "0": "182",
                  "1": "2",
                  "2": "400"
                },
                {
                  "0": "119",
                  "1": "1",
                  "2": "700"
                },
                {
                  "0": "208",
                  "1": "3",
                  "2": "252"
                },
                {
                  "0": "21",
                  "1": "7",
                  "2": "230"
                },
                {
                  "0": "209",
                  "1": "2",
                  "2": "24926"
                },
                {
                  "0": "181",
                  "1": "3",
                  "2": "11641"
                },
                {
                  "0": "70",
                  "1": "4",
                  "2": "2005"
                },
                {
                  "0": "220",
                  "1": "5",
                  "2": "579"
                },
                {
                  "0": "124",
                  "1": "1",
                  "2": "225"
                },
                {
                  "0": "121",
                  "1": "4",
                  "2": "279"
                },
                {
                  "0": "153",
                  "1": "6",
                  "2": "276"
                },
                {
                  "0": "248",
                  "1": "1",
                  "2": "241"
                },
                {
                  "0": "150",
                  "1": "7",
                  "2": "107"
                },
                {
                  "0": "154",
                  "1": "3",
                  "2": "49"
                },
                {
                  "0": "213",
                  "1": "4",
                  "2": "610"
                },
                {
                  "0": "230",
                  "1": "5",
                  "2": "522009"
                },
                {
                  "0": "79",
                  "1": "7",
                  "2": "620155"
                },
                {
                  "0": "170",
                  "1": "7",
                  "2": "418927"
                },
                {
                  "0": "191",
                  "1": "7",
                  "2": "427"
                },
                {
                  "0": "144",
                  "1": "3",
                  "2": "123037"
                },
                {
                  "0": "4",
                  "1": "3",
                  "2": "21686"
                },
                {
                  "0": "69",
                  "1": "3",
                  "2": "938"
                },
                {
                  "0": "156",
                  "1": "6",
                  "2": "35"
                },
                {
                  "0": "40",
                  "1": "7",
                  "2": "7826"
                },
                {
                  "0": "133",
                  "1": "5",
                  "2": "755"
                },
                {
                  "0": "191",
                  "1": "3",
                  "2": "465"
                },
                {
                  "0": "235",
                  "1": "1",
                  "2": "634"
                },
                {
                  "0": "198",
                  "1": "6",
                  "2": "488"
                },
                {
                  "0": "153",
                  "1": "7",
                  "2": "323"
                },
                {
                  "0": "6",
                  "1": "7",
                  "2": "70"
                },
                {
                  "0": "251",
                  "1": "5",
                  "2": "22"
                },
                {
                  "0": "82",
                  "1": "4",
                  "2": "3216"
                },
                {
                  "0": "106",
                  "1": "1",
                  "2": "2498"
                },
                {
                  "0": "134",
                  "1": "2",
                  "2": "972"
                },
                {
                  "0": "34",
                  "1": "2",
                  "2": "267"
                },
                {
                  "0": "126",
                  "1": "2",
                  "2": "241"
                },
                {
                  "0": "78",
                  "1": "7",
                  "2": "323"
                },
                {
                  "0": "130",
                  "1": "6",
                  "2": "2172"
                },
                {
                  "0": "18",
                  "1": "6",
                  "2": "344"
                },
                {
                  "0": "98",
                  "1": "5",
                  "2": "227"
                },
                {
                  "0": "113",
                  "1": "7",
                  "2": "248903"
                },
                {
                  "0": "14",
                  "1": "6",
                  "2": "1176"
                },
                {
                  "0": "156",
                  "1": "3",
                  "2": "31"
                },
                {
                  "0": "2",
                  "1": "1",
                  "2": "13"
                },
                {
                  "0": "43",
                  "1": "4",
                  "2": "225963"
                },
                {
                  "0": "138",
                  "1": "6",
                  "2": "419238"
                },
                {
                  "0": "77",
                  "1": "6",
                  "2": "366"
                },
                {
                  "0": "138",
                  "1": "7",
                  "2": "241363"
                },
                {
                  "0": "169",
                  "1": "7",
                  "2": "426"
                },
                {
                  "0": "193",
                  "1": "1",
                  "2": "6590"
                },
                {
                  "0": "24",
                  "1": "3",
                  "2": "41590"
                },
                {
                  "0": "182",
                  "1": "3",
                  "2": "428"
                },
                {
                  "0": "260",
                  "1": "5",
                  "2": "7047"
                },
                {
                  "0": "180",
                  "1": "5",
                  "2": "225"
                },
                {
                  "0": "175",
                  "1": "2",
                  "2": "151"
                },
                {
                  "0": "202",
                  "1": "2",
                  "2": "540"
                },
                {
                  "0": "51",
                  "1": "6",
                  "2": "598"
                },
                {
                  "0": "139",
                  "1": "5",
                  "2": "247"
                },
                {
                  "0": "38",
                  "1": "7",
                  "2": "131"
                },
                {
                  "0": "113",
                  "1": "5",
                  "2": "239706"
                },
                {
                  "0": "166",
                  "1": "7",
                  "2": "72481"
                },
                {
                  "0": "75",
                  "1": "3",
                  "2": "102527"
                },
                {
                  "0": "139",
                  "1": "4",
                  "2": "286"
                },
                {
                  "0": "159",
                  "1": "1",
                  "2": "1127"
                },
                {
                  "0": "71",
                  "1": "7",
                  "2": "592"
                },
                {
                  "0": "134",
                  "1": "3",
                  "2": "1008"
                },
                {
                  "0": "71",
                  "1": "3",
                  "2": "590"
                },
                {
                  "0": "253",
                  "1": "3",
                  "2": "41"
                },
                {
                  "0": "106",
                  "1": "4",
                  "2": "1892"
                },
                {
                  "0": "153",
                  "1": "5",
                  "2": "272"
                },
                {
                  "0": "101",
                  "1": "6",
                  "2": "194"
                },
                {
                  "0": "163",
                  "1": "6",
                  "2": "410447"
                },
                {
                  "0": "143",
                  "1": "1",
                  "2": "139901"
                },
                {
                  "0": "210",
                  "1": "7",
                  "2": "309"
                },
                {
                  "0": "114",
                  "1": "3",
                  "2": "154782"
                },
                {
                  "0": "42",
                  "1": "3",
                  "2": "21955"
                },
                {
                  "0": "242",
                  "1": "7",
                  "2": "311"
                },
                {
                  "0": "176",
                  "1": "7",
                  "2": "4"
                },
                {
                  "0": "2",
                  "1": "4",
                  "2": "12"
                },
                {
                  "0": "230",
                  "1": "4",
                  "2": "534814"
                },
                {
                  "0": "175",
                  "1": "4",
                  "2": "199"
                },
                {
                  "0": "226",
                  "1": "6",
                  "2": "23732"
                },
                {
                  "0": "106",
                  "1": "5",
                  "2": "2113"
                },
                {
                  "0": "114",
                  "1": "2",
                  "2": "142119"
                },
                {
                  "0": "28",
                  "1": "2",
                  "2": "1342"
                },
                {
                  "0": "11",
                  "1": "3",
                  "2": "177"
                },
                {
                  "0": "92",
                  "1": "3",
                  "2": "697"
                },
                {
                  "0": "67",
                  "1": "1",
                  "2": "220"
                },
                {
                  "0": "142",
                  "1": "2",
                  "2": "403690"
                },
                {
                  "0": "49",
                  "1": "1",
                  "2": "4997"
                },
                {
                  "0": "29",
                  "1": "2",
                  "2": "258"
                },
                {
                  "0": "159",
                  "1": "3",
                  "2": "886"
                },
                {
                  "0": "128",
                  "1": "4",
                  "2": "128"
                },
                {
                  "0": "92",
                  "1": "5",
                  "2": "727"
                },
                {
                  "0": "53",
                  "1": "2",
                  "2": "188"
                },
                {
                  "0": "169",
                  "1": "2",
                  "2": "390"
                },
                {
                  "0": "183",
                  "1": "6",
                  "2": "101"
                },
                {
                  "0": "242",
                  "1": "6",
                  "2": "480"
                },
                {
                  "0": "81",
                  "1": "3",
                  "2": "228"
                },
                {
                  "0": "18",
                  "1": "5",
                  "2": "294"
                },
                {
                  "0": "265",
                  "1": "4",
                  "2": "7031"
                },
                {
                  "0": "116",
                  "1": "2",
                  "2": "15245"
                },
                {
                  "0": "254",
                  "1": "2",
                  "2": "480"
                },
                {
                  "0": "250",
                  "1": "4",
                  "2": "275"
                },
                {
                  "0": "38",
                  "1": "2",
                  "2": "186"
                },
                {
                  "0": "208",
                  "1": "5",
                  "2": "281"
                },
                {
                  "0": "4",
                  "1": "6",
                  "2": "34000"
                },
                {
                  "0": "144",
                  "1": "1",
                  "2": "174949"
                },
                {
                  "0": "78",
                  "1": "2",
                  "2": "324"
                },
                {
                  "0": "20",
                  "1": "5",
                  "2": "120"
                },
                {
                  "0": "183",
                  "1": "3",
                  "2": "96"
                },
                {
                  "0": "175",
                  "1": "7",
                  "2": "127"
                },
                {
                  "0": "63",
                  "1": "6",
                  "2": "282"
                },
                {
                  "0": "223",
                  "1": "6",
                  "2": "7887"
                },
                {
                  "0": "193",
                  "1": "6",
                  "2": "8985"
                },
                {
                  "0": "243",
                  "1": "7",
                  "2": "3646"
                },
                {
                  "0": "36",
                  "1": "6",
                  "2": "1387"
                },
                {
                  "0": "221",
                  "1": "1",
                  "2": "45"
                },
                {
                  "0": "6",
                  "1": "3",
                  "2": "44"
                },
                {
                  "0": "51",
                  "1": "3",
                  "2": "578"
                },
                {
                  "0": "201",
                  "1": "6",
                  "2": "34"
                },
                {
                  "0": "232",
                  "1": "5",
                  "2": "21995"
                },
                {
                  "0": "224",
                  "1": "5",
                  "2": "32009"
                },
                {
                  "0": "131",
                  "1": "2",
                  "2": "280"
                },
                {
                  "0": "97",
                  "1": "1",
                  "2": "14110"
                },
                {
                  "0": "203",
                  "1": "7",
                  "2": "231"
                },
                {
                  "0": "139",
                  "1": "2",
                  "2": "277"
                },
                {
                  "0": "168",
                  "1": "4",
                  "2": "2590"
                },
                {
                  "0": "237",
                  "1": "6",
                  "2": "648295"
                },
                {
                  "0": "224",
                  "1": "6",
                  "2": "35051"
                },
                {
                  "0": "52",
                  "1": "5",
                  "2": "9461"
                },
                {
                  "0": "189",
                  "1": "6",
                  "2": "3595"
                },
                {
                  "0": "100",
                  "1": "2",
                  "2": "311317"
                },
                {
                  "0": "264",
                  "1": "2",
                  "2": "215261"
                },
                {
                  "0": "166",
                  "1": "1",
                  "2": "64990"
                },
                {
                  "0": "13",
                  "1": "3",
                  "2": "143317"
                },
                {
                  "0": "189",
                  "1": "1",
                  "2": "3942"
                },
                {
                  "0": "98",
                  "1": "2",
                  "2": "178"
                },
                {
                  "0": "65",
                  "1": "4",
                  "2": "19134"
                },
                {
                  "0": "186",
                  "1": "7",
                  "2": "472428"
                },
                {
                  "0": "142",
                  "1": "7",
                  "2": "461462"
                },
                {
                  "0": "93",
                  "1": "1",
                  "2": "2161"
                },
                {
                  "0": "160",
                  "1": "5",
                  "2": "275"
                },
                {
                  "0": "258",
                  "1": "2",
                  "2": "409"
                },
                {
                  "0": "220",
                  "1": "6",
                  "2": "535"
                },
                {
                  "0": "120",
                  "1": "2",
                  "2": "64"
                },
                {
                  "0": "130",
                  "1": "4",
                  "2": "1717"
                },
                {
                  "0": "249",
                  "1": "5",
                  "2": "278406"
                },
                {
                  "0": "209",
                  "1": "6",
                  "2": "33916"
                },
                {
                  "0": "64",
                  "1": "4",
                  "2": "145"
                },
                {
                  "0": "216",
                  "1": "5",
                  "2": "1805"
                },
                {
                  "0": "19",
                  "1": "6",
                  "2": "257"
                },
                {
                  "0": "128",
                  "1": "3",
                  "2": "95"
                },
                {
                  "0": "251",
                  "1": "6",
                  "2": "28"
                },
                {
                  "0": "32",
                  "1": "1",
                  "2": "254"
                },
                {
                  "0": "261",
                  "1": "6",
                  "2": "87369"
                },
                {
                  "0": "123",
                  "1": "7",
                  "2": "246"
                }
              ],
              "schema": [
                {
                  "key": "0",
                  "name": "puLocationId",
                  "type": "int"
                },
                {
                  "key": "1",
                  "name": "DayOfWeek",
                  "type": "int"
                },
                {
                  "key": "2",
                  "name": "RecordCount",
                  "type": "bigint"
                }
              ],
              "truncated": false
            },
            "isSummary": false,
            "language": "scala",
            "wranglerEntryContext": {
              "candidateVariableNames": [
                "skewCheckDf"
              ],
              "dataframeType": "pyspark"
            }
          },
          "persist_state": {
            "view": {
              "type": "details",
              "tableOptions": {},
              "chartOptions": {
                "chartType": "bar",
                "aggregationType": "sum",
                "categoryFieldKeys": [
                  "1"
                ],
                "seriesFieldKeys": [
                  "0"
                ],
                "isStacked": false
              }
            }
          }
        },
        "ef33e7f8-fb29-4d50-b414-bdf8e2374f57": {
          "type": "Synapse.DataFrame",
          "sync_state": {
            "table": {
              "rows": [
                {
                  "0": "1",
                  "1": "1",
                  "2": "987.0665447210102",
                  "3": "1"
                },
                {
                  "0": "265",
                  "1": "1",
                  "2": "199.26506891738228",
                  "3": "2"
                },
                {
                  "0": "172",
                  "1": "1",
                  "2": "169.99377372623366",
                  "3": "3"
                },
                {
                  "0": "187",
                  "1": "1",
                  "2": "82.24797941208834",
                  "3": "4"
                },
                {
                  "0": "11",
                  "1": "1",
                  "2": "47.85570818717895",
                  "3": "5"
                },
                {
                  "0": "118",
                  "1": "1",
                  "2": "44.87815504715838",
                  "3": "6"
                },
                {
                  "0": "136",
                  "1": "1",
                  "2": "42.36449184709157",
                  "3": "7"
                },
                {
                  "0": "122",
                  "1": "1",
                  "2": "41.713054845437725",
                  "3": "8"
                },
                {
                  "0": "171",
                  "1": "1",
                  "2": "38.212814119668856",
                  "3": "9"
                },
                {
                  "0": "23",
                  "1": "1",
                  "2": "32.97436639909029",
                  "3": "10"
                }
              ],
              "schema": [
                {
                  "key": "0",
                  "name": "puLocationId",
                  "type": "int"
                },
                {
                  "key": "1",
                  "name": "DayOfWeek",
                  "type": "int"
                },
                {
                  "key": "2",
                  "name": "AvgFarePerMile",
                  "type": "double"
                },
                {
                  "key": "3",
                  "name": "Rank",
                  "type": "int"
                }
              ],
              "truncated": false
            },
            "isSummary": false,
            "language": "scala",
            "wranglerEntryContext": {
              "dataframeType": "pyspark"
            }
          },
          "persist_state": {
            "view": {
              "type": "details",
              "tableOptions": {},
              "chartOptions": {
                "chartType": "bar",
                "aggregationType": "sum",
                "categoryFieldKeys": [
                  "1"
                ],
                "seriesFieldKeys": [
                  "0"
                ],
                "isStacked": false
              }
            }
          }
        }
      }
    }
  },
  "nbformat": 4,
  "nbformat_minor": 2
}